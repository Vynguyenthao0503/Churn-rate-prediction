{
  "cells": [
    {
      "cell_type": "code",
      "execution_count": null,
      "metadata": {
        "colab": {
          "base_uri": "https://localhost:8080/"
        },
        "id": "6DLq_ifKpyZ_",
        "outputId": "926ba3a8-235a-4a48-f80c-01d1828261cf"
      },
      "outputs": [
        {
          "output_type": "stream",
          "name": "stdout",
          "text": [
            "Mounted at /content/drive\n"
          ]
        }
      ],
      "source": [
        "from google.colab import drive\n",
        "drive.mount('/content/drive')\n"
      ]
    },
    {
      "cell_type": "code",
      "execution_count": null,
      "metadata": {
        "id": "HNzT2Q8Tp2T1"
      },
      "outputs": [],
      "source": [
        "import numpy as np # linear algebra\n",
        "import pandas as pd # data processing, CSV file I/O (e.g. pd.read_csv)\n",
        "import seaborn as sns #visualization\n",
        "import matplotlib.pyplot as plt #visualization"
      ]
    },
    {
      "cell_type": "code",
      "execution_count": null,
      "metadata": {
        "colab": {
          "base_uri": "https://localhost:8080/",
          "height": 300
        },
        "id": "Z4ieWO9fqfmc",
        "outputId": "12dcb283-d773-4654-c796-4c9f0ccf3244"
      },
      "outputs": [
        {
          "output_type": "execute_result",
          "data": {
            "text/plain": [
              "   customer_number client_sex  Age staff_vib sms Verify_method  \\\n",
              "0           398189          M   23         N   Y     SMART_OTP   \n",
              "1           580494          F   42         N   Y           SMS   \n",
              "2           658868          M   25         N   Y     SMART_OTP   \n",
              "3           253047          F   22         N   N           SMS   \n",
              "4           171374          M   33         N   Y     SMART_OTP   \n",
              "\n",
              "  IB_REGISTER_DATE  Tenure EB_register_channel  No.Activity_Name  ...  \\\n",
              "0        11/9/2019    1.73              BRANCH                10  ...   \n",
              "1        3/18/2019    9.60              BRANCH                10  ...   \n",
              "2        8/13/2019    4.67              BRANCH                13  ...   \n",
              "3        2/12/2019   10.73              BRANCH                10  ...   \n",
              "4        4/17/2019    8.60              BRANCH                14  ...   \n",
              "\n",
              "   max_TermDeposite_Balance  min_TermDeposite_Balance  No_Loan  \\\n",
              "0              0.000000e+00                       0.0        0   \n",
              "1              0.000000e+00                       0.0        0   \n",
              "2              0.000000e+00                       0.0        0   \n",
              "3              1.270000e+09                       0.0        0   \n",
              "4              0.000000e+00                       0.0        0   \n",
              "\n",
              "   Avg_Loan_Balance  max_Loan_Balance  min_Loan_Balance  No_CC  No_DC  \\\n",
              "0                 0                 0                 0      0      1   \n",
              "1                 0                 0                 0      0      1   \n",
              "2                 0                 0                 0      0      1   \n",
              "3                 0                 0                 0      0      0   \n",
              "4                 0                 0                 0      0      2   \n",
              "\n",
              "   max_datediff  churn  \n",
              "0           6.0      0  \n",
              "1          30.0      0  \n",
              "2           3.0      0  \n",
              "3          16.0      0  \n",
              "4          32.0      1  \n",
              "\n",
              "[5 rows x 32 columns]"
            ],
            "text/html": [
              "\n",
              "  <div id=\"df-7c09e83d-4677-44dd-89ba-fd6bfb3f4c89\">\n",
              "    <div class=\"colab-df-container\">\n",
              "      <div>\n",
              "<style scoped>\n",
              "    .dataframe tbody tr th:only-of-type {\n",
              "        vertical-align: middle;\n",
              "    }\n",
              "\n",
              "    .dataframe tbody tr th {\n",
              "        vertical-align: top;\n",
              "    }\n",
              "\n",
              "    .dataframe thead th {\n",
              "        text-align: right;\n",
              "    }\n",
              "</style>\n",
              "<table border=\"1\" class=\"dataframe\">\n",
              "  <thead>\n",
              "    <tr style=\"text-align: right;\">\n",
              "      <th></th>\n",
              "      <th>customer_number</th>\n",
              "      <th>client_sex</th>\n",
              "      <th>Age</th>\n",
              "      <th>staff_vib</th>\n",
              "      <th>sms</th>\n",
              "      <th>Verify_method</th>\n",
              "      <th>IB_REGISTER_DATE</th>\n",
              "      <th>Tenure</th>\n",
              "      <th>EB_register_channel</th>\n",
              "      <th>No.Activity_Name</th>\n",
              "      <th>...</th>\n",
              "      <th>max_TermDeposite_Balance</th>\n",
              "      <th>min_TermDeposite_Balance</th>\n",
              "      <th>No_Loan</th>\n",
              "      <th>Avg_Loan_Balance</th>\n",
              "      <th>max_Loan_Balance</th>\n",
              "      <th>min_Loan_Balance</th>\n",
              "      <th>No_CC</th>\n",
              "      <th>No_DC</th>\n",
              "      <th>max_datediff</th>\n",
              "      <th>churn</th>\n",
              "    </tr>\n",
              "  </thead>\n",
              "  <tbody>\n",
              "    <tr>\n",
              "      <th>0</th>\n",
              "      <td>398189</td>\n",
              "      <td>M</td>\n",
              "      <td>23</td>\n",
              "      <td>N</td>\n",
              "      <td>Y</td>\n",
              "      <td>SMART_OTP</td>\n",
              "      <td>11/9/2019</td>\n",
              "      <td>1.73</td>\n",
              "      <td>BRANCH</td>\n",
              "      <td>10</td>\n",
              "      <td>...</td>\n",
              "      <td>0.000000e+00</td>\n",
              "      <td>0.0</td>\n",
              "      <td>0</td>\n",
              "      <td>0</td>\n",
              "      <td>0</td>\n",
              "      <td>0</td>\n",
              "      <td>0</td>\n",
              "      <td>1</td>\n",
              "      <td>6.0</td>\n",
              "      <td>0</td>\n",
              "    </tr>\n",
              "    <tr>\n",
              "      <th>1</th>\n",
              "      <td>580494</td>\n",
              "      <td>F</td>\n",
              "      <td>42</td>\n",
              "      <td>N</td>\n",
              "      <td>Y</td>\n",
              "      <td>SMS</td>\n",
              "      <td>3/18/2019</td>\n",
              "      <td>9.60</td>\n",
              "      <td>BRANCH</td>\n",
              "      <td>10</td>\n",
              "      <td>...</td>\n",
              "      <td>0.000000e+00</td>\n",
              "      <td>0.0</td>\n",
              "      <td>0</td>\n",
              "      <td>0</td>\n",
              "      <td>0</td>\n",
              "      <td>0</td>\n",
              "      <td>0</td>\n",
              "      <td>1</td>\n",
              "      <td>30.0</td>\n",
              "      <td>0</td>\n",
              "    </tr>\n",
              "    <tr>\n",
              "      <th>2</th>\n",
              "      <td>658868</td>\n",
              "      <td>M</td>\n",
              "      <td>25</td>\n",
              "      <td>N</td>\n",
              "      <td>Y</td>\n",
              "      <td>SMART_OTP</td>\n",
              "      <td>8/13/2019</td>\n",
              "      <td>4.67</td>\n",
              "      <td>BRANCH</td>\n",
              "      <td>13</td>\n",
              "      <td>...</td>\n",
              "      <td>0.000000e+00</td>\n",
              "      <td>0.0</td>\n",
              "      <td>0</td>\n",
              "      <td>0</td>\n",
              "      <td>0</td>\n",
              "      <td>0</td>\n",
              "      <td>0</td>\n",
              "      <td>1</td>\n",
              "      <td>3.0</td>\n",
              "      <td>0</td>\n",
              "    </tr>\n",
              "    <tr>\n",
              "      <th>3</th>\n",
              "      <td>253047</td>\n",
              "      <td>F</td>\n",
              "      <td>22</td>\n",
              "      <td>N</td>\n",
              "      <td>N</td>\n",
              "      <td>SMS</td>\n",
              "      <td>2/12/2019</td>\n",
              "      <td>10.73</td>\n",
              "      <td>BRANCH</td>\n",
              "      <td>10</td>\n",
              "      <td>...</td>\n",
              "      <td>1.270000e+09</td>\n",
              "      <td>0.0</td>\n",
              "      <td>0</td>\n",
              "      <td>0</td>\n",
              "      <td>0</td>\n",
              "      <td>0</td>\n",
              "      <td>0</td>\n",
              "      <td>0</td>\n",
              "      <td>16.0</td>\n",
              "      <td>0</td>\n",
              "    </tr>\n",
              "    <tr>\n",
              "      <th>4</th>\n",
              "      <td>171374</td>\n",
              "      <td>M</td>\n",
              "      <td>33</td>\n",
              "      <td>N</td>\n",
              "      <td>Y</td>\n",
              "      <td>SMART_OTP</td>\n",
              "      <td>4/17/2019</td>\n",
              "      <td>8.60</td>\n",
              "      <td>BRANCH</td>\n",
              "      <td>14</td>\n",
              "      <td>...</td>\n",
              "      <td>0.000000e+00</td>\n",
              "      <td>0.0</td>\n",
              "      <td>0</td>\n",
              "      <td>0</td>\n",
              "      <td>0</td>\n",
              "      <td>0</td>\n",
              "      <td>0</td>\n",
              "      <td>2</td>\n",
              "      <td>32.0</td>\n",
              "      <td>1</td>\n",
              "    </tr>\n",
              "  </tbody>\n",
              "</table>\n",
              "<p>5 rows × 32 columns</p>\n",
              "</div>\n",
              "      <button class=\"colab-df-convert\" onclick=\"convertToInteractive('df-7c09e83d-4677-44dd-89ba-fd6bfb3f4c89')\"\n",
              "              title=\"Convert this dataframe to an interactive table.\"\n",
              "              style=\"display:none;\">\n",
              "        \n",
              "  <svg xmlns=\"http://www.w3.org/2000/svg\" height=\"24px\"viewBox=\"0 0 24 24\"\n",
              "       width=\"24px\">\n",
              "    <path d=\"M0 0h24v24H0V0z\" fill=\"none\"/>\n",
              "    <path d=\"M18.56 5.44l.94 2.06.94-2.06 2.06-.94-2.06-.94-.94-2.06-.94 2.06-2.06.94zm-11 1L8.5 8.5l.94-2.06 2.06-.94-2.06-.94L8.5 2.5l-.94 2.06-2.06.94zm10 10l.94 2.06.94-2.06 2.06-.94-2.06-.94-.94-2.06-.94 2.06-2.06.94z\"/><path d=\"M17.41 7.96l-1.37-1.37c-.4-.4-.92-.59-1.43-.59-.52 0-1.04.2-1.43.59L10.3 9.45l-7.72 7.72c-.78.78-.78 2.05 0 2.83L4 21.41c.39.39.9.59 1.41.59.51 0 1.02-.2 1.41-.59l7.78-7.78 2.81-2.81c.8-.78.8-2.07 0-2.86zM5.41 20L4 18.59l7.72-7.72 1.47 1.35L5.41 20z\"/>\n",
              "  </svg>\n",
              "      </button>\n",
              "      \n",
              "  <style>\n",
              "    .colab-df-container {\n",
              "      display:flex;\n",
              "      flex-wrap:wrap;\n",
              "      gap: 12px;\n",
              "    }\n",
              "\n",
              "    .colab-df-convert {\n",
              "      background-color: #E8F0FE;\n",
              "      border: none;\n",
              "      border-radius: 50%;\n",
              "      cursor: pointer;\n",
              "      display: none;\n",
              "      fill: #1967D2;\n",
              "      height: 32px;\n",
              "      padding: 0 0 0 0;\n",
              "      width: 32px;\n",
              "    }\n",
              "\n",
              "    .colab-df-convert:hover {\n",
              "      background-color: #E2EBFA;\n",
              "      box-shadow: 0px 1px 2px rgba(60, 64, 67, 0.3), 0px 1px 3px 1px rgba(60, 64, 67, 0.15);\n",
              "      fill: #174EA6;\n",
              "    }\n",
              "\n",
              "    [theme=dark] .colab-df-convert {\n",
              "      background-color: #3B4455;\n",
              "      fill: #D2E3FC;\n",
              "    }\n",
              "\n",
              "    [theme=dark] .colab-df-convert:hover {\n",
              "      background-color: #434B5C;\n",
              "      box-shadow: 0px 1px 3px 1px rgba(0, 0, 0, 0.15);\n",
              "      filter: drop-shadow(0px 1px 2px rgba(0, 0, 0, 0.3));\n",
              "      fill: #FFFFFF;\n",
              "    }\n",
              "  </style>\n",
              "\n",
              "      <script>\n",
              "        const buttonEl =\n",
              "          document.querySelector('#df-7c09e83d-4677-44dd-89ba-fd6bfb3f4c89 button.colab-df-convert');\n",
              "        buttonEl.style.display =\n",
              "          google.colab.kernel.accessAllowed ? 'block' : 'none';\n",
              "\n",
              "        async function convertToInteractive(key) {\n",
              "          const element = document.querySelector('#df-7c09e83d-4677-44dd-89ba-fd6bfb3f4c89');\n",
              "          const dataTable =\n",
              "            await google.colab.kernel.invokeFunction('convertToInteractive',\n",
              "                                                     [key], {});\n",
              "          if (!dataTable) return;\n",
              "\n",
              "          const docLinkHtml = 'Like what you see? Visit the ' +\n",
              "            '<a target=\"_blank\" href=https://colab.research.google.com/notebooks/data_table.ipynb>data table notebook</a>'\n",
              "            + ' to learn more about interactive tables.';\n",
              "          element.innerHTML = '';\n",
              "          dataTable['output_type'] = 'display_data';\n",
              "          await google.colab.output.renderOutput(dataTable, element);\n",
              "          const docLink = document.createElement('div');\n",
              "          docLink.innerHTML = docLinkHtml;\n",
              "          element.appendChild(docLink);\n",
              "        }\n",
              "      </script>\n",
              "    </div>\n",
              "  </div>\n",
              "  "
            ]
          },
          "metadata": {},
          "execution_count": 3
        }
      ],
      "source": [
        "cust = pd.read_csv('/content/drive/MyDrive/KLTN/BÀI LUẬN/clean_train.csv')\n",
        "cust.head()"
      ]
    },
    {
      "cell_type": "code",
      "execution_count": null,
      "metadata": {
        "id": "rFpPTxXAp6qa"
      },
      "outputs": [],
      "source": [
        "cust.rename(columns={'customer_number': 'Customer_number', 'client_sex' : 'Client_gender', 'staff_vib': 'Staff_VIB','sms':'SMS', 'No.Activity_Name': 'No_Activity_Name', 'Type_Trans_LV2' : 'Type_Transaction', 'Avg_trans_no/month': 'Avg_trans_no_month' }, inplace = True)"
      ]
    },
    {
      "cell_type": "code",
      "execution_count": null,
      "metadata": {
        "colab": {
          "base_uri": "https://localhost:8080/",
          "height": 300
        },
        "id": "O_gkmJ4JsXn8",
        "outputId": "fd1be372-6796-41db-d89c-af2f739d4707"
      },
      "outputs": [
        {
          "output_type": "execute_result",
          "data": {
            "text/plain": [
              "   Customer_number Client_gender  Age Staff_VIB SMS Verify_method  \\\n",
              "0           398189             M   23         N   Y     SMART_OTP   \n",
              "1           580494             F   42         N   Y           SMS   \n",
              "2           658868             M   25         N   Y     SMART_OTP   \n",
              "3           253047             F   22         N   N           SMS   \n",
              "4           171374             M   33         N   Y     SMART_OTP   \n",
              "\n",
              "  IB_REGISTER_DATE  Tenure EB_register_channel  No_Activity_Name  ...  \\\n",
              "0        11/9/2019    1.73              BRANCH                10  ...   \n",
              "1        3/18/2019    9.60              BRANCH                10  ...   \n",
              "2        8/13/2019    4.67              BRANCH                13  ...   \n",
              "3        2/12/2019   10.73              BRANCH                10  ...   \n",
              "4        4/17/2019    8.60              BRANCH                14  ...   \n",
              "\n",
              "   max_TermDeposite_Balance  min_TermDeposite_Balance  No_Loan  \\\n",
              "0              0.000000e+00                       0.0        0   \n",
              "1              0.000000e+00                       0.0        0   \n",
              "2              0.000000e+00                       0.0        0   \n",
              "3              1.270000e+09                       0.0        0   \n",
              "4              0.000000e+00                       0.0        0   \n",
              "\n",
              "   Avg_Loan_Balance  max_Loan_Balance  min_Loan_Balance  No_CC  No_DC  \\\n",
              "0                 0                 0                 0      0      1   \n",
              "1                 0                 0                 0      0      1   \n",
              "2                 0                 0                 0      0      1   \n",
              "3                 0                 0                 0      0      0   \n",
              "4                 0                 0                 0      0      2   \n",
              "\n",
              "   max_datediff  churn  \n",
              "0           6.0      0  \n",
              "1          30.0      0  \n",
              "2           3.0      0  \n",
              "3          16.0      0  \n",
              "4          32.0      1  \n",
              "\n",
              "[5 rows x 32 columns]"
            ],
            "text/html": [
              "\n",
              "  <div id=\"df-2918675d-2936-4565-a153-d688c7b71e97\">\n",
              "    <div class=\"colab-df-container\">\n",
              "      <div>\n",
              "<style scoped>\n",
              "    .dataframe tbody tr th:only-of-type {\n",
              "        vertical-align: middle;\n",
              "    }\n",
              "\n",
              "    .dataframe tbody tr th {\n",
              "        vertical-align: top;\n",
              "    }\n",
              "\n",
              "    .dataframe thead th {\n",
              "        text-align: right;\n",
              "    }\n",
              "</style>\n",
              "<table border=\"1\" class=\"dataframe\">\n",
              "  <thead>\n",
              "    <tr style=\"text-align: right;\">\n",
              "      <th></th>\n",
              "      <th>Customer_number</th>\n",
              "      <th>Client_gender</th>\n",
              "      <th>Age</th>\n",
              "      <th>Staff_VIB</th>\n",
              "      <th>SMS</th>\n",
              "      <th>Verify_method</th>\n",
              "      <th>IB_REGISTER_DATE</th>\n",
              "      <th>Tenure</th>\n",
              "      <th>EB_register_channel</th>\n",
              "      <th>No_Activity_Name</th>\n",
              "      <th>...</th>\n",
              "      <th>max_TermDeposite_Balance</th>\n",
              "      <th>min_TermDeposite_Balance</th>\n",
              "      <th>No_Loan</th>\n",
              "      <th>Avg_Loan_Balance</th>\n",
              "      <th>max_Loan_Balance</th>\n",
              "      <th>min_Loan_Balance</th>\n",
              "      <th>No_CC</th>\n",
              "      <th>No_DC</th>\n",
              "      <th>max_datediff</th>\n",
              "      <th>churn</th>\n",
              "    </tr>\n",
              "  </thead>\n",
              "  <tbody>\n",
              "    <tr>\n",
              "      <th>0</th>\n",
              "      <td>398189</td>\n",
              "      <td>M</td>\n",
              "      <td>23</td>\n",
              "      <td>N</td>\n",
              "      <td>Y</td>\n",
              "      <td>SMART_OTP</td>\n",
              "      <td>11/9/2019</td>\n",
              "      <td>1.73</td>\n",
              "      <td>BRANCH</td>\n",
              "      <td>10</td>\n",
              "      <td>...</td>\n",
              "      <td>0.000000e+00</td>\n",
              "      <td>0.0</td>\n",
              "      <td>0</td>\n",
              "      <td>0</td>\n",
              "      <td>0</td>\n",
              "      <td>0</td>\n",
              "      <td>0</td>\n",
              "      <td>1</td>\n",
              "      <td>6.0</td>\n",
              "      <td>0</td>\n",
              "    </tr>\n",
              "    <tr>\n",
              "      <th>1</th>\n",
              "      <td>580494</td>\n",
              "      <td>F</td>\n",
              "      <td>42</td>\n",
              "      <td>N</td>\n",
              "      <td>Y</td>\n",
              "      <td>SMS</td>\n",
              "      <td>3/18/2019</td>\n",
              "      <td>9.60</td>\n",
              "      <td>BRANCH</td>\n",
              "      <td>10</td>\n",
              "      <td>...</td>\n",
              "      <td>0.000000e+00</td>\n",
              "      <td>0.0</td>\n",
              "      <td>0</td>\n",
              "      <td>0</td>\n",
              "      <td>0</td>\n",
              "      <td>0</td>\n",
              "      <td>0</td>\n",
              "      <td>1</td>\n",
              "      <td>30.0</td>\n",
              "      <td>0</td>\n",
              "    </tr>\n",
              "    <tr>\n",
              "      <th>2</th>\n",
              "      <td>658868</td>\n",
              "      <td>M</td>\n",
              "      <td>25</td>\n",
              "      <td>N</td>\n",
              "      <td>Y</td>\n",
              "      <td>SMART_OTP</td>\n",
              "      <td>8/13/2019</td>\n",
              "      <td>4.67</td>\n",
              "      <td>BRANCH</td>\n",
              "      <td>13</td>\n",
              "      <td>...</td>\n",
              "      <td>0.000000e+00</td>\n",
              "      <td>0.0</td>\n",
              "      <td>0</td>\n",
              "      <td>0</td>\n",
              "      <td>0</td>\n",
              "      <td>0</td>\n",
              "      <td>0</td>\n",
              "      <td>1</td>\n",
              "      <td>3.0</td>\n",
              "      <td>0</td>\n",
              "    </tr>\n",
              "    <tr>\n",
              "      <th>3</th>\n",
              "      <td>253047</td>\n",
              "      <td>F</td>\n",
              "      <td>22</td>\n",
              "      <td>N</td>\n",
              "      <td>N</td>\n",
              "      <td>SMS</td>\n",
              "      <td>2/12/2019</td>\n",
              "      <td>10.73</td>\n",
              "      <td>BRANCH</td>\n",
              "      <td>10</td>\n",
              "      <td>...</td>\n",
              "      <td>1.270000e+09</td>\n",
              "      <td>0.0</td>\n",
              "      <td>0</td>\n",
              "      <td>0</td>\n",
              "      <td>0</td>\n",
              "      <td>0</td>\n",
              "      <td>0</td>\n",
              "      <td>0</td>\n",
              "      <td>16.0</td>\n",
              "      <td>0</td>\n",
              "    </tr>\n",
              "    <tr>\n",
              "      <th>4</th>\n",
              "      <td>171374</td>\n",
              "      <td>M</td>\n",
              "      <td>33</td>\n",
              "      <td>N</td>\n",
              "      <td>Y</td>\n",
              "      <td>SMART_OTP</td>\n",
              "      <td>4/17/2019</td>\n",
              "      <td>8.60</td>\n",
              "      <td>BRANCH</td>\n",
              "      <td>14</td>\n",
              "      <td>...</td>\n",
              "      <td>0.000000e+00</td>\n",
              "      <td>0.0</td>\n",
              "      <td>0</td>\n",
              "      <td>0</td>\n",
              "      <td>0</td>\n",
              "      <td>0</td>\n",
              "      <td>0</td>\n",
              "      <td>2</td>\n",
              "      <td>32.0</td>\n",
              "      <td>1</td>\n",
              "    </tr>\n",
              "  </tbody>\n",
              "</table>\n",
              "<p>5 rows × 32 columns</p>\n",
              "</div>\n",
              "      <button class=\"colab-df-convert\" onclick=\"convertToInteractive('df-2918675d-2936-4565-a153-d688c7b71e97')\"\n",
              "              title=\"Convert this dataframe to an interactive table.\"\n",
              "              style=\"display:none;\">\n",
              "        \n",
              "  <svg xmlns=\"http://www.w3.org/2000/svg\" height=\"24px\"viewBox=\"0 0 24 24\"\n",
              "       width=\"24px\">\n",
              "    <path d=\"M0 0h24v24H0V0z\" fill=\"none\"/>\n",
              "    <path d=\"M18.56 5.44l.94 2.06.94-2.06 2.06-.94-2.06-.94-.94-2.06-.94 2.06-2.06.94zm-11 1L8.5 8.5l.94-2.06 2.06-.94-2.06-.94L8.5 2.5l-.94 2.06-2.06.94zm10 10l.94 2.06.94-2.06 2.06-.94-2.06-.94-.94-2.06-.94 2.06-2.06.94z\"/><path d=\"M17.41 7.96l-1.37-1.37c-.4-.4-.92-.59-1.43-.59-.52 0-1.04.2-1.43.59L10.3 9.45l-7.72 7.72c-.78.78-.78 2.05 0 2.83L4 21.41c.39.39.9.59 1.41.59.51 0 1.02-.2 1.41-.59l7.78-7.78 2.81-2.81c.8-.78.8-2.07 0-2.86zM5.41 20L4 18.59l7.72-7.72 1.47 1.35L5.41 20z\"/>\n",
              "  </svg>\n",
              "      </button>\n",
              "      \n",
              "  <style>\n",
              "    .colab-df-container {\n",
              "      display:flex;\n",
              "      flex-wrap:wrap;\n",
              "      gap: 12px;\n",
              "    }\n",
              "\n",
              "    .colab-df-convert {\n",
              "      background-color: #E8F0FE;\n",
              "      border: none;\n",
              "      border-radius: 50%;\n",
              "      cursor: pointer;\n",
              "      display: none;\n",
              "      fill: #1967D2;\n",
              "      height: 32px;\n",
              "      padding: 0 0 0 0;\n",
              "      width: 32px;\n",
              "    }\n",
              "\n",
              "    .colab-df-convert:hover {\n",
              "      background-color: #E2EBFA;\n",
              "      box-shadow: 0px 1px 2px rgba(60, 64, 67, 0.3), 0px 1px 3px 1px rgba(60, 64, 67, 0.15);\n",
              "      fill: #174EA6;\n",
              "    }\n",
              "\n",
              "    [theme=dark] .colab-df-convert {\n",
              "      background-color: #3B4455;\n",
              "      fill: #D2E3FC;\n",
              "    }\n",
              "\n",
              "    [theme=dark] .colab-df-convert:hover {\n",
              "      background-color: #434B5C;\n",
              "      box-shadow: 0px 1px 3px 1px rgba(0, 0, 0, 0.15);\n",
              "      filter: drop-shadow(0px 1px 2px rgba(0, 0, 0, 0.3));\n",
              "      fill: #FFFFFF;\n",
              "    }\n",
              "  </style>\n",
              "\n",
              "      <script>\n",
              "        const buttonEl =\n",
              "          document.querySelector('#df-2918675d-2936-4565-a153-d688c7b71e97 button.colab-df-convert');\n",
              "        buttonEl.style.display =\n",
              "          google.colab.kernel.accessAllowed ? 'block' : 'none';\n",
              "\n",
              "        async function convertToInteractive(key) {\n",
              "          const element = document.querySelector('#df-2918675d-2936-4565-a153-d688c7b71e97');\n",
              "          const dataTable =\n",
              "            await google.colab.kernel.invokeFunction('convertToInteractive',\n",
              "                                                     [key], {});\n",
              "          if (!dataTable) return;\n",
              "\n",
              "          const docLinkHtml = 'Like what you see? Visit the ' +\n",
              "            '<a target=\"_blank\" href=https://colab.research.google.com/notebooks/data_table.ipynb>data table notebook</a>'\n",
              "            + ' to learn more about interactive tables.';\n",
              "          element.innerHTML = '';\n",
              "          dataTable['output_type'] = 'display_data';\n",
              "          await google.colab.output.renderOutput(dataTable, element);\n",
              "          const docLink = document.createElement('div');\n",
              "          docLink.innerHTML = docLinkHtml;\n",
              "          element.appendChild(docLink);\n",
              "        }\n",
              "      </script>\n",
              "    </div>\n",
              "  </div>\n",
              "  "
            ]
          },
          "metadata": {},
          "execution_count": 5
        }
      ],
      "source": [
        "cust.head(5)"
      ]
    },
    {
      "cell_type": "code",
      "execution_count": null,
      "metadata": {
        "id": "Dcylr9EBqxX1"
      },
      "outputs": [],
      "source": [
        "training_data = cust.drop(['Customer_number', 'IB_REGISTER_DATE', 'max_datediff'], axis = 1)"
      ]
    },
    {
      "cell_type": "markdown",
      "metadata": {
        "id": "pNLos88Es73K"
      },
      "source": [
        "**Encode Cats**"
      ]
    },
    {
      "cell_type": "code",
      "execution_count": null,
      "metadata": {
        "id": "C2USbEtiq1_Y"
      },
      "outputs": [],
      "source": [
        "target_col = [\"churn\"]\n",
        "cat_cols   = training_data.nunique()[training_data.nunique() < 6].keys().tolist()\n",
        "cat_cols   = [x for x in cat_cols if x not in target_col]\n",
        "num_cols   = [x for x in training_data.columns if x not in cat_cols + target_col]"
      ]
    },
    {
      "cell_type": "code",
      "execution_count": null,
      "metadata": {
        "colab": {
          "base_uri": "https://localhost:8080/"
        },
        "id": "-DlAObWvq8Xk",
        "outputId": "df3693a1-4143-4840-d91b-3c1f034b3f7f"
      },
      "outputs": [
        {
          "output_type": "execute_result",
          "data": {
            "text/plain": [
              "['Client_gender', 'Staff_VIB', 'SMS', 'Verify_method', 'EB_register_channel']"
            ]
          },
          "metadata": {},
          "execution_count": 8
        }
      ],
      "source": [
        "cat_cols"
      ]
    },
    {
      "cell_type": "code",
      "execution_count": null,
      "metadata": {
        "colab": {
          "base_uri": "https://localhost:8080/"
        },
        "id": "OzyammvAq9d5",
        "outputId": "768ec808-a6fe-4067-8da6-9cb635356890"
      },
      "outputs": [
        {
          "output_type": "execute_result",
          "data": {
            "text/plain": [
              "Client_gender                 0\n",
              "Age                           0\n",
              "Staff_VIB                     0\n",
              "SMS                           0\n",
              "Verify_method                 0\n",
              "Tenure                        0\n",
              "EB_register_channel           0\n",
              "No_Activity_Name              0\n",
              "Type_Transaction              0\n",
              "Total_trans_no                0\n",
              "Avg_trans_no_month            0\n",
              "Avg_Trans_Amount              0\n",
              "Max_trans_amount              0\n",
              "Min_trans_amount              0\n",
              "No_CurrentAccount             0\n",
              "Avg_CurrentAccount_Balance    0\n",
              "max_CurrentAccount_Balance    0\n",
              "Min_CurrentAccount_Balance    0\n",
              "No_TermDeposite               0\n",
              "Avg_TermDeposite_Balance      0\n",
              "max_TermDeposite_Balance      0\n",
              "min_TermDeposite_Balance      0\n",
              "No_Loan                       0\n",
              "Avg_Loan_Balance              0\n",
              "max_Loan_Balance              0\n",
              "min_Loan_Balance              0\n",
              "No_CC                         0\n",
              "No_DC                         0\n",
              "churn                         0\n",
              "dtype: int64"
            ]
          },
          "metadata": {},
          "execution_count": 9
        }
      ],
      "source": [
        "training_data.isnull().sum()"
      ]
    },
    {
      "cell_type": "code",
      "execution_count": null,
      "metadata": {
        "id": "m-KjVgeIrC77"
      },
      "outputs": [],
      "source": [
        "from sklearn.preprocessing import LabelEncoder\n",
        "le = LabelEncoder()"
      ]
    },
    {
      "cell_type": "code",
      "execution_count": null,
      "metadata": {
        "id": "zH1Hm7zmriNY"
      },
      "outputs": [],
      "source": [
        "encode_col =  cat_cols"
      ]
    },
    {
      "cell_type": "code",
      "execution_count": null,
      "metadata": {
        "colab": {
          "base_uri": "https://localhost:8080/"
        },
        "id": "UkMP7NwzrnKe",
        "outputId": "69cc8bbc-95cf-4081-84f1-b28f859e0ded"
      },
      "outputs": [
        {
          "output_type": "execute_result",
          "data": {
            "text/plain": [
              "['Client_gender', 'Staff_VIB', 'SMS', 'Verify_method', 'EB_register_channel']"
            ]
          },
          "metadata": {},
          "execution_count": 12
        }
      ],
      "source": [
        "encode_col"
      ]
    },
    {
      "cell_type": "code",
      "execution_count": null,
      "metadata": {
        "colab": {
          "base_uri": "https://localhost:8080/",
          "height": 424
        },
        "id": "DYh0DSTqrsgN",
        "outputId": "04e9991a-fe7b-4d47-b991-38737a01a2b2"
      },
      "outputs": [
        {
          "output_type": "execute_result",
          "data": {
            "text/plain": [
              "      Client_gender Staff_VIB SMS Verify_method EB_register_channel\n",
              "0                 M         N   Y     SMART_OTP              BRANCH\n",
              "1                 F         N   Y           SMS              BRANCH\n",
              "2                 M         N   Y     SMART_OTP              BRANCH\n",
              "3                 F         N   N           SMS              BRANCH\n",
              "4                 M         N   Y     SMART_OTP              BRANCH\n",
              "...             ...       ...  ..           ...                 ...\n",
              "66758             M         N   N     SMART_OTP            AUTO-JOB\n",
              "66759             F         N   Y     SMART_OTP              BRANCH\n",
              "66760             M         N   Y     SMART_OTP               MYVIB\n",
              "66761             M         N   Y     SMART_OTP              BRANCH\n",
              "66762             M         N   Y           SMS              BRANCH\n",
              "\n",
              "[66763 rows x 5 columns]"
            ],
            "text/html": [
              "\n",
              "  <div id=\"df-ac77e0b0-e815-4a07-a23b-5b0bb76ead1f\">\n",
              "    <div class=\"colab-df-container\">\n",
              "      <div>\n",
              "<style scoped>\n",
              "    .dataframe tbody tr th:only-of-type {\n",
              "        vertical-align: middle;\n",
              "    }\n",
              "\n",
              "    .dataframe tbody tr th {\n",
              "        vertical-align: top;\n",
              "    }\n",
              "\n",
              "    .dataframe thead th {\n",
              "        text-align: right;\n",
              "    }\n",
              "</style>\n",
              "<table border=\"1\" class=\"dataframe\">\n",
              "  <thead>\n",
              "    <tr style=\"text-align: right;\">\n",
              "      <th></th>\n",
              "      <th>Client_gender</th>\n",
              "      <th>Staff_VIB</th>\n",
              "      <th>SMS</th>\n",
              "      <th>Verify_method</th>\n",
              "      <th>EB_register_channel</th>\n",
              "    </tr>\n",
              "  </thead>\n",
              "  <tbody>\n",
              "    <tr>\n",
              "      <th>0</th>\n",
              "      <td>M</td>\n",
              "      <td>N</td>\n",
              "      <td>Y</td>\n",
              "      <td>SMART_OTP</td>\n",
              "      <td>BRANCH</td>\n",
              "    </tr>\n",
              "    <tr>\n",
              "      <th>1</th>\n",
              "      <td>F</td>\n",
              "      <td>N</td>\n",
              "      <td>Y</td>\n",
              "      <td>SMS</td>\n",
              "      <td>BRANCH</td>\n",
              "    </tr>\n",
              "    <tr>\n",
              "      <th>2</th>\n",
              "      <td>M</td>\n",
              "      <td>N</td>\n",
              "      <td>Y</td>\n",
              "      <td>SMART_OTP</td>\n",
              "      <td>BRANCH</td>\n",
              "    </tr>\n",
              "    <tr>\n",
              "      <th>3</th>\n",
              "      <td>F</td>\n",
              "      <td>N</td>\n",
              "      <td>N</td>\n",
              "      <td>SMS</td>\n",
              "      <td>BRANCH</td>\n",
              "    </tr>\n",
              "    <tr>\n",
              "      <th>4</th>\n",
              "      <td>M</td>\n",
              "      <td>N</td>\n",
              "      <td>Y</td>\n",
              "      <td>SMART_OTP</td>\n",
              "      <td>BRANCH</td>\n",
              "    </tr>\n",
              "    <tr>\n",
              "      <th>...</th>\n",
              "      <td>...</td>\n",
              "      <td>...</td>\n",
              "      <td>...</td>\n",
              "      <td>...</td>\n",
              "      <td>...</td>\n",
              "    </tr>\n",
              "    <tr>\n",
              "      <th>66758</th>\n",
              "      <td>M</td>\n",
              "      <td>N</td>\n",
              "      <td>N</td>\n",
              "      <td>SMART_OTP</td>\n",
              "      <td>AUTO-JOB</td>\n",
              "    </tr>\n",
              "    <tr>\n",
              "      <th>66759</th>\n",
              "      <td>F</td>\n",
              "      <td>N</td>\n",
              "      <td>Y</td>\n",
              "      <td>SMART_OTP</td>\n",
              "      <td>BRANCH</td>\n",
              "    </tr>\n",
              "    <tr>\n",
              "      <th>66760</th>\n",
              "      <td>M</td>\n",
              "      <td>N</td>\n",
              "      <td>Y</td>\n",
              "      <td>SMART_OTP</td>\n",
              "      <td>MYVIB</td>\n",
              "    </tr>\n",
              "    <tr>\n",
              "      <th>66761</th>\n",
              "      <td>M</td>\n",
              "      <td>N</td>\n",
              "      <td>Y</td>\n",
              "      <td>SMART_OTP</td>\n",
              "      <td>BRANCH</td>\n",
              "    </tr>\n",
              "    <tr>\n",
              "      <th>66762</th>\n",
              "      <td>M</td>\n",
              "      <td>N</td>\n",
              "      <td>Y</td>\n",
              "      <td>SMS</td>\n",
              "      <td>BRANCH</td>\n",
              "    </tr>\n",
              "  </tbody>\n",
              "</table>\n",
              "<p>66763 rows × 5 columns</p>\n",
              "</div>\n",
              "      <button class=\"colab-df-convert\" onclick=\"convertToInteractive('df-ac77e0b0-e815-4a07-a23b-5b0bb76ead1f')\"\n",
              "              title=\"Convert this dataframe to an interactive table.\"\n",
              "              style=\"display:none;\">\n",
              "        \n",
              "  <svg xmlns=\"http://www.w3.org/2000/svg\" height=\"24px\"viewBox=\"0 0 24 24\"\n",
              "       width=\"24px\">\n",
              "    <path d=\"M0 0h24v24H0V0z\" fill=\"none\"/>\n",
              "    <path d=\"M18.56 5.44l.94 2.06.94-2.06 2.06-.94-2.06-.94-.94-2.06-.94 2.06-2.06.94zm-11 1L8.5 8.5l.94-2.06 2.06-.94-2.06-.94L8.5 2.5l-.94 2.06-2.06.94zm10 10l.94 2.06.94-2.06 2.06-.94-2.06-.94-.94-2.06-.94 2.06-2.06.94z\"/><path d=\"M17.41 7.96l-1.37-1.37c-.4-.4-.92-.59-1.43-.59-.52 0-1.04.2-1.43.59L10.3 9.45l-7.72 7.72c-.78.78-.78 2.05 0 2.83L4 21.41c.39.39.9.59 1.41.59.51 0 1.02-.2 1.41-.59l7.78-7.78 2.81-2.81c.8-.78.8-2.07 0-2.86zM5.41 20L4 18.59l7.72-7.72 1.47 1.35L5.41 20z\"/>\n",
              "  </svg>\n",
              "      </button>\n",
              "      \n",
              "  <style>\n",
              "    .colab-df-container {\n",
              "      display:flex;\n",
              "      flex-wrap:wrap;\n",
              "      gap: 12px;\n",
              "    }\n",
              "\n",
              "    .colab-df-convert {\n",
              "      background-color: #E8F0FE;\n",
              "      border: none;\n",
              "      border-radius: 50%;\n",
              "      cursor: pointer;\n",
              "      display: none;\n",
              "      fill: #1967D2;\n",
              "      height: 32px;\n",
              "      padding: 0 0 0 0;\n",
              "      width: 32px;\n",
              "    }\n",
              "\n",
              "    .colab-df-convert:hover {\n",
              "      background-color: #E2EBFA;\n",
              "      box-shadow: 0px 1px 2px rgba(60, 64, 67, 0.3), 0px 1px 3px 1px rgba(60, 64, 67, 0.15);\n",
              "      fill: #174EA6;\n",
              "    }\n",
              "\n",
              "    [theme=dark] .colab-df-convert {\n",
              "      background-color: #3B4455;\n",
              "      fill: #D2E3FC;\n",
              "    }\n",
              "\n",
              "    [theme=dark] .colab-df-convert:hover {\n",
              "      background-color: #434B5C;\n",
              "      box-shadow: 0px 1px 3px 1px rgba(0, 0, 0, 0.15);\n",
              "      filter: drop-shadow(0px 1px 2px rgba(0, 0, 0, 0.3));\n",
              "      fill: #FFFFFF;\n",
              "    }\n",
              "  </style>\n",
              "\n",
              "      <script>\n",
              "        const buttonEl =\n",
              "          document.querySelector('#df-ac77e0b0-e815-4a07-a23b-5b0bb76ead1f button.colab-df-convert');\n",
              "        buttonEl.style.display =\n",
              "          google.colab.kernel.accessAllowed ? 'block' : 'none';\n",
              "\n",
              "        async function convertToInteractive(key) {\n",
              "          const element = document.querySelector('#df-ac77e0b0-e815-4a07-a23b-5b0bb76ead1f');\n",
              "          const dataTable =\n",
              "            await google.colab.kernel.invokeFunction('convertToInteractive',\n",
              "                                                     [key], {});\n",
              "          if (!dataTable) return;\n",
              "\n",
              "          const docLinkHtml = 'Like what you see? Visit the ' +\n",
              "            '<a target=\"_blank\" href=https://colab.research.google.com/notebooks/data_table.ipynb>data table notebook</a>'\n",
              "            + ' to learn more about interactive tables.';\n",
              "          element.innerHTML = '';\n",
              "          dataTable['output_type'] = 'display_data';\n",
              "          await google.colab.output.renderOutput(dataTable, element);\n",
              "          const docLink = document.createElement('div');\n",
              "          docLink.innerHTML = docLinkHtml;\n",
              "          element.appendChild(docLink);\n",
              "        }\n",
              "      </script>\n",
              "    </div>\n",
              "  </div>\n",
              "  "
            ]
          },
          "metadata": {},
          "execution_count": 13
        }
      ],
      "source": [
        "training_data[encode_col]"
      ]
    },
    {
      "cell_type": "code",
      "execution_count": null,
      "metadata": {
        "colab": {
          "base_uri": "https://localhost:8080/",
          "height": 488
        },
        "id": "IpSvBYBhr2yC",
        "outputId": "22969bf5-5520-4199-9ced-799177949b6c"
      },
      "outputs": [
        {
          "output_type": "execute_result",
          "data": {
            "text/plain": [
              "       Client_gender  Age  Staff_VIB  SMS  Verify_method  Tenure  \\\n",
              "0                  1   23          0    1              1    1.73   \n",
              "1                  0   42          0    1              2    9.60   \n",
              "2                  1   25          0    1              1    4.67   \n",
              "3                  0   22          0    0              2   10.73   \n",
              "4                  1   33          0    1              1    8.60   \n",
              "...              ...  ...        ...  ...            ...     ...   \n",
              "66758              1   29          0    0              1    4.23   \n",
              "66759              0   21          0    1              1    5.87   \n",
              "66760              1   19          0    1              1    7.10   \n",
              "66761              1   24          0    1              1    9.27   \n",
              "66762              1   32          0    1              2    9.83   \n",
              "\n",
              "       EB_register_channel  No_Activity_Name  Type_Transaction  \\\n",
              "0                        1                10                 3   \n",
              "1                        1                10                 4   \n",
              "2                        1                13                 1   \n",
              "3                        1                10                 1   \n",
              "4                        1                14                 4   \n",
              "...                    ...               ...               ...   \n",
              "66758                    0                14                 2   \n",
              "66759                    1                 6                 1   \n",
              "66760                    2                17                 3   \n",
              "66761                    1                12                 1   \n",
              "66762                    1                 7                 1   \n",
              "\n",
              "       Total_trans_no  ...  Avg_TermDeposite_Balance  \\\n",
              "0                  38  ...                       0.0   \n",
              "1                  52  ...                       0.0   \n",
              "2                   2  ...                       0.0   \n",
              "3                   2  ...               346355068.0   \n",
              "4                  95  ...                       0.0   \n",
              "...               ...  ...                       ...   \n",
              "66758               7  ...                       0.0   \n",
              "66759               1  ...                       0.0   \n",
              "66760              79  ...                       0.0   \n",
              "66761               6  ...                       0.0   \n",
              "66762               1  ...                       0.0   \n",
              "\n",
              "       max_TermDeposite_Balance  min_TermDeposite_Balance  No_Loan  \\\n",
              "0                  0.000000e+00                       0.0        0   \n",
              "1                  0.000000e+00                       0.0        0   \n",
              "2                  0.000000e+00                       0.0        0   \n",
              "3                  1.270000e+09                       0.0        0   \n",
              "4                  0.000000e+00                       0.0        0   \n",
              "...                         ...                       ...      ...   \n",
              "66758              0.000000e+00                       0.0        2   \n",
              "66759              0.000000e+00                       0.0        0   \n",
              "66760              0.000000e+00                       0.0        0   \n",
              "66761              0.000000e+00                       0.0        0   \n",
              "66762              0.000000e+00                       0.0        2   \n",
              "\n",
              "       Avg_Loan_Balance  max_Loan_Balance  min_Loan_Balance  No_CC  No_DC  \\\n",
              "0                     0                 0                 0      0      1   \n",
              "1                     0                 0                 0      0      1   \n",
              "2                     0                 0                 0      0      1   \n",
              "3                     0                 0                 0      0      0   \n",
              "4                     0                 0                 0      0      2   \n",
              "...                 ...               ...               ...    ...    ...   \n",
              "66758         402356579         959866947          27699500      1      0   \n",
              "66759                 0                 0                 0      0      1   \n",
              "66760                 0                 0                 0      0      1   \n",
              "66761                 0                 0                 0      0      1   \n",
              "66762         751709900         793561000         691686000      1      1   \n",
              "\n",
              "       churn  \n",
              "0          0  \n",
              "1          0  \n",
              "2          0  \n",
              "3          0  \n",
              "4          1  \n",
              "...      ...  \n",
              "66758      0  \n",
              "66759      1  \n",
              "66760      1  \n",
              "66761      1  \n",
              "66762      1  \n",
              "\n",
              "[66763 rows x 29 columns]"
            ],
            "text/html": [
              "\n",
              "  <div id=\"df-e3139950-692c-45f8-aef2-afd20206d501\">\n",
              "    <div class=\"colab-df-container\">\n",
              "      <div>\n",
              "<style scoped>\n",
              "    .dataframe tbody tr th:only-of-type {\n",
              "        vertical-align: middle;\n",
              "    }\n",
              "\n",
              "    .dataframe tbody tr th {\n",
              "        vertical-align: top;\n",
              "    }\n",
              "\n",
              "    .dataframe thead th {\n",
              "        text-align: right;\n",
              "    }\n",
              "</style>\n",
              "<table border=\"1\" class=\"dataframe\">\n",
              "  <thead>\n",
              "    <tr style=\"text-align: right;\">\n",
              "      <th></th>\n",
              "      <th>Client_gender</th>\n",
              "      <th>Age</th>\n",
              "      <th>Staff_VIB</th>\n",
              "      <th>SMS</th>\n",
              "      <th>Verify_method</th>\n",
              "      <th>Tenure</th>\n",
              "      <th>EB_register_channel</th>\n",
              "      <th>No_Activity_Name</th>\n",
              "      <th>Type_Transaction</th>\n",
              "      <th>Total_trans_no</th>\n",
              "      <th>...</th>\n",
              "      <th>Avg_TermDeposite_Balance</th>\n",
              "      <th>max_TermDeposite_Balance</th>\n",
              "      <th>min_TermDeposite_Balance</th>\n",
              "      <th>No_Loan</th>\n",
              "      <th>Avg_Loan_Balance</th>\n",
              "      <th>max_Loan_Balance</th>\n",
              "      <th>min_Loan_Balance</th>\n",
              "      <th>No_CC</th>\n",
              "      <th>No_DC</th>\n",
              "      <th>churn</th>\n",
              "    </tr>\n",
              "  </thead>\n",
              "  <tbody>\n",
              "    <tr>\n",
              "      <th>0</th>\n",
              "      <td>1</td>\n",
              "      <td>23</td>\n",
              "      <td>0</td>\n",
              "      <td>1</td>\n",
              "      <td>1</td>\n",
              "      <td>1.73</td>\n",
              "      <td>1</td>\n",
              "      <td>10</td>\n",
              "      <td>3</td>\n",
              "      <td>38</td>\n",
              "      <td>...</td>\n",
              "      <td>0.0</td>\n",
              "      <td>0.000000e+00</td>\n",
              "      <td>0.0</td>\n",
              "      <td>0</td>\n",
              "      <td>0</td>\n",
              "      <td>0</td>\n",
              "      <td>0</td>\n",
              "      <td>0</td>\n",
              "      <td>1</td>\n",
              "      <td>0</td>\n",
              "    </tr>\n",
              "    <tr>\n",
              "      <th>1</th>\n",
              "      <td>0</td>\n",
              "      <td>42</td>\n",
              "      <td>0</td>\n",
              "      <td>1</td>\n",
              "      <td>2</td>\n",
              "      <td>9.60</td>\n",
              "      <td>1</td>\n",
              "      <td>10</td>\n",
              "      <td>4</td>\n",
              "      <td>52</td>\n",
              "      <td>...</td>\n",
              "      <td>0.0</td>\n",
              "      <td>0.000000e+00</td>\n",
              "      <td>0.0</td>\n",
              "      <td>0</td>\n",
              "      <td>0</td>\n",
              "      <td>0</td>\n",
              "      <td>0</td>\n",
              "      <td>0</td>\n",
              "      <td>1</td>\n",
              "      <td>0</td>\n",
              "    </tr>\n",
              "    <tr>\n",
              "      <th>2</th>\n",
              "      <td>1</td>\n",
              "      <td>25</td>\n",
              "      <td>0</td>\n",
              "      <td>1</td>\n",
              "      <td>1</td>\n",
              "      <td>4.67</td>\n",
              "      <td>1</td>\n",
              "      <td>13</td>\n",
              "      <td>1</td>\n",
              "      <td>2</td>\n",
              "      <td>...</td>\n",
              "      <td>0.0</td>\n",
              "      <td>0.000000e+00</td>\n",
              "      <td>0.0</td>\n",
              "      <td>0</td>\n",
              "      <td>0</td>\n",
              "      <td>0</td>\n",
              "      <td>0</td>\n",
              "      <td>0</td>\n",
              "      <td>1</td>\n",
              "      <td>0</td>\n",
              "    </tr>\n",
              "    <tr>\n",
              "      <th>3</th>\n",
              "      <td>0</td>\n",
              "      <td>22</td>\n",
              "      <td>0</td>\n",
              "      <td>0</td>\n",
              "      <td>2</td>\n",
              "      <td>10.73</td>\n",
              "      <td>1</td>\n",
              "      <td>10</td>\n",
              "      <td>1</td>\n",
              "      <td>2</td>\n",
              "      <td>...</td>\n",
              "      <td>346355068.0</td>\n",
              "      <td>1.270000e+09</td>\n",
              "      <td>0.0</td>\n",
              "      <td>0</td>\n",
              "      <td>0</td>\n",
              "      <td>0</td>\n",
              "      <td>0</td>\n",
              "      <td>0</td>\n",
              "      <td>0</td>\n",
              "      <td>0</td>\n",
              "    </tr>\n",
              "    <tr>\n",
              "      <th>4</th>\n",
              "      <td>1</td>\n",
              "      <td>33</td>\n",
              "      <td>0</td>\n",
              "      <td>1</td>\n",
              "      <td>1</td>\n",
              "      <td>8.60</td>\n",
              "      <td>1</td>\n",
              "      <td>14</td>\n",
              "      <td>4</td>\n",
              "      <td>95</td>\n",
              "      <td>...</td>\n",
              "      <td>0.0</td>\n",
              "      <td>0.000000e+00</td>\n",
              "      <td>0.0</td>\n",
              "      <td>0</td>\n",
              "      <td>0</td>\n",
              "      <td>0</td>\n",
              "      <td>0</td>\n",
              "      <td>0</td>\n",
              "      <td>2</td>\n",
              "      <td>1</td>\n",
              "    </tr>\n",
              "    <tr>\n",
              "      <th>...</th>\n",
              "      <td>...</td>\n",
              "      <td>...</td>\n",
              "      <td>...</td>\n",
              "      <td>...</td>\n",
              "      <td>...</td>\n",
              "      <td>...</td>\n",
              "      <td>...</td>\n",
              "      <td>...</td>\n",
              "      <td>...</td>\n",
              "      <td>...</td>\n",
              "      <td>...</td>\n",
              "      <td>...</td>\n",
              "      <td>...</td>\n",
              "      <td>...</td>\n",
              "      <td>...</td>\n",
              "      <td>...</td>\n",
              "      <td>...</td>\n",
              "      <td>...</td>\n",
              "      <td>...</td>\n",
              "      <td>...</td>\n",
              "      <td>...</td>\n",
              "    </tr>\n",
              "    <tr>\n",
              "      <th>66758</th>\n",
              "      <td>1</td>\n",
              "      <td>29</td>\n",
              "      <td>0</td>\n",
              "      <td>0</td>\n",
              "      <td>1</td>\n",
              "      <td>4.23</td>\n",
              "      <td>0</td>\n",
              "      <td>14</td>\n",
              "      <td>2</td>\n",
              "      <td>7</td>\n",
              "      <td>...</td>\n",
              "      <td>0.0</td>\n",
              "      <td>0.000000e+00</td>\n",
              "      <td>0.0</td>\n",
              "      <td>2</td>\n",
              "      <td>402356579</td>\n",
              "      <td>959866947</td>\n",
              "      <td>27699500</td>\n",
              "      <td>1</td>\n",
              "      <td>0</td>\n",
              "      <td>0</td>\n",
              "    </tr>\n",
              "    <tr>\n",
              "      <th>66759</th>\n",
              "      <td>0</td>\n",
              "      <td>21</td>\n",
              "      <td>0</td>\n",
              "      <td>1</td>\n",
              "      <td>1</td>\n",
              "      <td>5.87</td>\n",
              "      <td>1</td>\n",
              "      <td>6</td>\n",
              "      <td>1</td>\n",
              "      <td>1</td>\n",
              "      <td>...</td>\n",
              "      <td>0.0</td>\n",
              "      <td>0.000000e+00</td>\n",
              "      <td>0.0</td>\n",
              "      <td>0</td>\n",
              "      <td>0</td>\n",
              "      <td>0</td>\n",
              "      <td>0</td>\n",
              "      <td>0</td>\n",
              "      <td>1</td>\n",
              "      <td>1</td>\n",
              "    </tr>\n",
              "    <tr>\n",
              "      <th>66760</th>\n",
              "      <td>1</td>\n",
              "      <td>19</td>\n",
              "      <td>0</td>\n",
              "      <td>1</td>\n",
              "      <td>1</td>\n",
              "      <td>7.10</td>\n",
              "      <td>2</td>\n",
              "      <td>17</td>\n",
              "      <td>3</td>\n",
              "      <td>79</td>\n",
              "      <td>...</td>\n",
              "      <td>0.0</td>\n",
              "      <td>0.000000e+00</td>\n",
              "      <td>0.0</td>\n",
              "      <td>0</td>\n",
              "      <td>0</td>\n",
              "      <td>0</td>\n",
              "      <td>0</td>\n",
              "      <td>0</td>\n",
              "      <td>1</td>\n",
              "      <td>1</td>\n",
              "    </tr>\n",
              "    <tr>\n",
              "      <th>66761</th>\n",
              "      <td>1</td>\n",
              "      <td>24</td>\n",
              "      <td>0</td>\n",
              "      <td>1</td>\n",
              "      <td>1</td>\n",
              "      <td>9.27</td>\n",
              "      <td>1</td>\n",
              "      <td>12</td>\n",
              "      <td>1</td>\n",
              "      <td>6</td>\n",
              "      <td>...</td>\n",
              "      <td>0.0</td>\n",
              "      <td>0.000000e+00</td>\n",
              "      <td>0.0</td>\n",
              "      <td>0</td>\n",
              "      <td>0</td>\n",
              "      <td>0</td>\n",
              "      <td>0</td>\n",
              "      <td>0</td>\n",
              "      <td>1</td>\n",
              "      <td>1</td>\n",
              "    </tr>\n",
              "    <tr>\n",
              "      <th>66762</th>\n",
              "      <td>1</td>\n",
              "      <td>32</td>\n",
              "      <td>0</td>\n",
              "      <td>1</td>\n",
              "      <td>2</td>\n",
              "      <td>9.83</td>\n",
              "      <td>1</td>\n",
              "      <td>7</td>\n",
              "      <td>1</td>\n",
              "      <td>1</td>\n",
              "      <td>...</td>\n",
              "      <td>0.0</td>\n",
              "      <td>0.000000e+00</td>\n",
              "      <td>0.0</td>\n",
              "      <td>2</td>\n",
              "      <td>751709900</td>\n",
              "      <td>793561000</td>\n",
              "      <td>691686000</td>\n",
              "      <td>1</td>\n",
              "      <td>1</td>\n",
              "      <td>1</td>\n",
              "    </tr>\n",
              "  </tbody>\n",
              "</table>\n",
              "<p>66763 rows × 29 columns</p>\n",
              "</div>\n",
              "      <button class=\"colab-df-convert\" onclick=\"convertToInteractive('df-e3139950-692c-45f8-aef2-afd20206d501')\"\n",
              "              title=\"Convert this dataframe to an interactive table.\"\n",
              "              style=\"display:none;\">\n",
              "        \n",
              "  <svg xmlns=\"http://www.w3.org/2000/svg\" height=\"24px\"viewBox=\"0 0 24 24\"\n",
              "       width=\"24px\">\n",
              "    <path d=\"M0 0h24v24H0V0z\" fill=\"none\"/>\n",
              "    <path d=\"M18.56 5.44l.94 2.06.94-2.06 2.06-.94-2.06-.94-.94-2.06-.94 2.06-2.06.94zm-11 1L8.5 8.5l.94-2.06 2.06-.94-2.06-.94L8.5 2.5l-.94 2.06-2.06.94zm10 10l.94 2.06.94-2.06 2.06-.94-2.06-.94-.94-2.06-.94 2.06-2.06.94z\"/><path d=\"M17.41 7.96l-1.37-1.37c-.4-.4-.92-.59-1.43-.59-.52 0-1.04.2-1.43.59L10.3 9.45l-7.72 7.72c-.78.78-.78 2.05 0 2.83L4 21.41c.39.39.9.59 1.41.59.51 0 1.02-.2 1.41-.59l7.78-7.78 2.81-2.81c.8-.78.8-2.07 0-2.86zM5.41 20L4 18.59l7.72-7.72 1.47 1.35L5.41 20z\"/>\n",
              "  </svg>\n",
              "      </button>\n",
              "      \n",
              "  <style>\n",
              "    .colab-df-container {\n",
              "      display:flex;\n",
              "      flex-wrap:wrap;\n",
              "      gap: 12px;\n",
              "    }\n",
              "\n",
              "    .colab-df-convert {\n",
              "      background-color: #E8F0FE;\n",
              "      border: none;\n",
              "      border-radius: 50%;\n",
              "      cursor: pointer;\n",
              "      display: none;\n",
              "      fill: #1967D2;\n",
              "      height: 32px;\n",
              "      padding: 0 0 0 0;\n",
              "      width: 32px;\n",
              "    }\n",
              "\n",
              "    .colab-df-convert:hover {\n",
              "      background-color: #E2EBFA;\n",
              "      box-shadow: 0px 1px 2px rgba(60, 64, 67, 0.3), 0px 1px 3px 1px rgba(60, 64, 67, 0.15);\n",
              "      fill: #174EA6;\n",
              "    }\n",
              "\n",
              "    [theme=dark] .colab-df-convert {\n",
              "      background-color: #3B4455;\n",
              "      fill: #D2E3FC;\n",
              "    }\n",
              "\n",
              "    [theme=dark] .colab-df-convert:hover {\n",
              "      background-color: #434B5C;\n",
              "      box-shadow: 0px 1px 3px 1px rgba(0, 0, 0, 0.15);\n",
              "      filter: drop-shadow(0px 1px 2px rgba(0, 0, 0, 0.3));\n",
              "      fill: #FFFFFF;\n",
              "    }\n",
              "  </style>\n",
              "\n",
              "      <script>\n",
              "        const buttonEl =\n",
              "          document.querySelector('#df-e3139950-692c-45f8-aef2-afd20206d501 button.colab-df-convert');\n",
              "        buttonEl.style.display =\n",
              "          google.colab.kernel.accessAllowed ? 'block' : 'none';\n",
              "\n",
              "        async function convertToInteractive(key) {\n",
              "          const element = document.querySelector('#df-e3139950-692c-45f8-aef2-afd20206d501');\n",
              "          const dataTable =\n",
              "            await google.colab.kernel.invokeFunction('convertToInteractive',\n",
              "                                                     [key], {});\n",
              "          if (!dataTable) return;\n",
              "\n",
              "          const docLinkHtml = 'Like what you see? Visit the ' +\n",
              "            '<a target=\"_blank\" href=https://colab.research.google.com/notebooks/data_table.ipynb>data table notebook</a>'\n",
              "            + ' to learn more about interactive tables.';\n",
              "          element.innerHTML = '';\n",
              "          dataTable['output_type'] = 'display_data';\n",
              "          await google.colab.output.renderOutput(dataTable, element);\n",
              "          const docLink = document.createElement('div');\n",
              "          docLink.innerHTML = docLinkHtml;\n",
              "          element.appendChild(docLink);\n",
              "        }\n",
              "      </script>\n",
              "    </div>\n",
              "  </div>\n",
              "  "
            ]
          },
          "metadata": {},
          "execution_count": 14
        }
      ],
      "source": [
        "for col in encode_col:\n",
        "  training_data[col] = le.fit_transform(training_data[col])\n",
        "  training_data[col] = le.fit_transform(training_data[col])\n",
        "\n",
        "training_data"
      ]
    },
    {
      "cell_type": "markdown",
      "metadata": {
        "id": "_pifGYCntEsd"
      },
      "source": [
        "**Split DATA**"
      ]
    },
    {
      "cell_type": "code",
      "execution_count": null,
      "metadata": {
        "id": "pS-v10rfr-ri"
      },
      "outputs": [],
      "source": [
        "X = training_data.drop('churn', axis=1)\n",
        "y = training_data.churn"
      ]
    },
    {
      "cell_type": "code",
      "execution_count": null,
      "metadata": {
        "id": "JC7gAjix6WhZ"
      },
      "outputs": [],
      "source": []
    },
    {
      "cell_type": "code",
      "execution_count": null,
      "metadata": {
        "id": "NMTb6IKTsHLJ"
      },
      "outputs": [],
      "source": [
        "import os\n",
        "from sklearn.model_selection import train_test_split\n",
        "from sklearn.ensemble import RandomForestClassifier, GradientBoostingClassifier\n",
        "from xgboost import XGBClassifier\n",
        "from sklearn.neighbors import KNeighborsClassifier\n",
        "# Scoring function\n",
        "from sklearn.metrics import roc_auc_score, roc_curve, recall_score, precision_score, f1_score\n",
        "from sklearn.model_selection import GridSearchCV   #Perforing grid search\n"
      ]
    },
    {
      "cell_type": "code",
      "execution_count": null,
      "metadata": {
        "id": "fVp4PS_dsjfI"
      },
      "outputs": [],
      "source": [
        "X_train, X_test, y_train, y_test = train_test_split(X, y, test_size = 0.3, random_state = 4)"
      ]
    },
    {
      "cell_type": "code",
      "execution_count": null,
      "metadata": {
        "colab": {
          "base_uri": "https://localhost:8080/"
        },
        "id": "kgjHYXqdsnDy",
        "outputId": "1daabae8-4b5c-4a51-8383-87867ca0b3af"
      },
      "outputs": [
        {
          "output_type": "execute_result",
          "data": {
            "text/plain": [
              "0    30095\n",
              "1    16639\n",
              "Name: churn, dtype: int64"
            ]
          },
          "metadata": {},
          "execution_count": 18
        }
      ],
      "source": [
        "y_train.value_counts()"
      ]
    },
    {
      "cell_type": "code",
      "execution_count": null,
      "metadata": {
        "colab": {
          "base_uri": "https://localhost:8080/"
        },
        "id": "S-h5xxqus7yl",
        "outputId": "8a9daa13-0b78-430c-cbd1-bc7ebe7f3e20"
      },
      "outputs": [
        {
          "output_type": "execute_result",
          "data": {
            "text/plain": [
              "0    12908\n",
              "1     7121\n",
              "Name: churn, dtype: int64"
            ]
          },
          "metadata": {},
          "execution_count": 19
        }
      ],
      "source": [
        "y_test.value_counts()"
      ]
    },
    {
      "cell_type": "code",
      "execution_count": null,
      "metadata": {
        "colab": {
          "base_uri": "https://localhost:8080/"
        },
        "id": "Y7rwiyfms-LI",
        "outputId": "f30c9ca8-2c05-44b2-a72f-2a995912c7f7"
      },
      "outputs": [
        {
          "output_type": "execute_result",
          "data": {
            "text/plain": [
              "0    43003\n",
              "1    23760\n",
              "Name: churn, dtype: int64"
            ]
          },
          "metadata": {},
          "execution_count": 20
        }
      ],
      "source": [
        "y.value_counts()"
      ]
    },
    {
      "cell_type": "code",
      "execution_count": null,
      "metadata": {
        "colab": {
          "base_uri": "https://localhost:8080/"
        },
        "id": "qi6AFbG-tD1u",
        "outputId": "af6e6b6a-b138-4482-9ef3-d09d148a5118"
      },
      "outputs": [
        {
          "output_type": "execute_result",
          "data": {
            "text/plain": [
              "KNeighborsClassifier()"
            ]
          },
          "metadata": {},
          "execution_count": 23
        }
      ],
      "source": [
        "# Initialization of the KNN\n",
        "knMod = KNeighborsClassifier(n_neighbors = 5, weights = 'uniform', algorithm = 'auto', leaf_size = 30, p = 2,\n",
        "                             metric = 'minkowski', metric_params = None)\n",
        "# Fitting the model with training data\n",
        "knMod.fit(X_train, y_train)"
      ]
    },
    {
      "cell_type": "code",
      "execution_count": null,
      "metadata": {
        "colab": {
          "base_uri": "https://localhost:8080/"
        },
        "id": "YYCv0EeetTJ7",
        "outputId": "df2b2417-8c7c-415a-d747-1de0530c3af1"
      },
      "outputs": [
        {
          "output_type": "execute_result",
          "data": {
            "text/plain": [
              "GradientBoostingClassifier(n_estimators=200)"
            ]
          },
          "metadata": {},
          "execution_count": 24
        }
      ],
      "source": [
        "# Initialization of the GradientBoosting model\n",
        "gbMod = GradientBoostingClassifier(loss = 'deviance', n_estimators = 200)\n",
        "# Fitting the model with training data\n",
        "gbMod.fit(X_train, y_train)"
      ]
    },
    {
      "cell_type": "code",
      "execution_count": null,
      "metadata": {
        "colab": {
          "base_uri": "https://localhost:8080/"
        },
        "id": "OIKK7_tQx1WK",
        "outputId": "1e373fb3-335b-41c1-d1c6-6efa1ecd57c6"
      },
      "outputs": [
        {
          "output_type": "execute_result",
          "data": {
            "text/plain": [
              "GradientBoostingClassifier(max_depth=8, max_features='sqrt',\n",
              "                           min_samples_leaf=50, min_samples_split=500,\n",
              "                           random_state=10, subsample=0.8)"
            ]
          },
          "metadata": {},
          "execution_count": 22
        }
      ],
      "source": [
        "# Initialization of the GradientBoosting model\n",
        "gbMod_1 = GradientBoostingClassifier(learning_rate=0.1, min_samples_split=500,min_samples_leaf=50,max_depth=8,max_features='sqrt',subsample=0.8,random_state=10)\n",
        "# Fitting the model with training data\n",
        "gbMod_1.fit(X_train, y_train)"
      ]
    },
    {
      "cell_type": "code",
      "execution_count": null,
      "metadata": {
        "colab": {
          "base_uri": "https://localhost:8080/"
        },
        "id": "dE8xD9Z7tVbC",
        "outputId": "7cea1edf-2ab5-442d-8d96-957fbd2f236f"
      },
      "outputs": [
        {
          "output_type": "execute_result",
          "data": {
            "text/plain": [
              "RandomForestClassifier(n_estimators=10)"
            ]
          },
          "metadata": {},
          "execution_count": 25
        }
      ],
      "source": [
        "# Initialization of the Random Forest model\n",
        "rfMod = RandomForestClassifier(n_estimators=10, criterion='gini')\n",
        "# Fitting the model with training data\n",
        "rfMod.fit(X_train, y_train)"
      ]
    },
    {
      "cell_type": "code",
      "execution_count": null,
      "metadata": {
        "colab": {
          "base_uri": "https://localhost:8080/"
        },
        "id": "KqrSqqYMtc8N",
        "outputId": "e95efd3f-2617-4a13-abfd-42968010687d"
      },
      "outputs": [
        {
          "output_type": "execute_result",
          "data": {
            "text/plain": [
              "XGBClassifier(colsample_bytree=0.8, gamma=0.1, max_depth=4, min_child_weight=6,\n",
              "              n_estimators=177, nthread=4, seed=27, subsample=0.8)"
            ]
          },
          "metadata": {},
          "execution_count": 21
        }
      ],
      "source": [
        "# Initialization of the XGBoost model\n",
        "XGMod = XGBClassifier(learning_rate =0.1, n_estimators=177, max_depth=4,\n",
        " min_child_weight=6, gamma=0.1, subsample=0.8, colsample_bytree=0.8,\n",
        " objective= 'binary:logistic', nthread=4, scale_pos_weight=1,seed=27)\n",
        "# Fitting the model with training data\n",
        "XGMod.fit(X_train, y_train)"
      ]
    },
    {
      "cell_type": "code",
      "execution_count": null,
      "metadata": {
        "colab": {
          "base_uri": "https://localhost:8080/",
          "height": 402
        },
        "id": "kr2EN5c-twwt",
        "outputId": "ca6b9937-757f-4d51-89c2-ece73a20d07f"
      },
      "outputs": [
        {
          "output_type": "stream",
          "name": "stderr",
          "text": [
            "/usr/local/lib/python3.7/dist-packages/sklearn/base.py:451: UserWarning: X does not have valid feature names, but KNeighborsClassifier was fitted with feature names\n",
            "  \"X does not have valid feature names, but\"\n",
            "/usr/local/lib/python3.7/dist-packages/sklearn/utils/deprecation.py:87: FutureWarning: Function plot_confusion_matrix is deprecated; Function `plot_confusion_matrix` is deprecated in 1.0 and will be removed in 1.2. Use one of the class methods: ConfusionMatrixDisplay.from_predictions or ConfusionMatrixDisplay.from_estimator.\n",
            "  warnings.warn(msg, category=FutureWarning)\n"
          ]
        },
        {
          "output_type": "display_data",
          "data": {
            "text/plain": [
              "<Figure size 360x360 with 2 Axes>"
            ],
            "image/png": "[encoded data removed]"
          },
          "metadata": {
            "needs_background": "light"
          }
        }
      ],
      "source": [
        "\n",
        "# Compute the model accuracy on the given test data and labels\n",
        "knn_acc = knMod.score(X_test, y_test)\n",
        "# Return probability estimates for the test data\n",
        "test_labels = knMod.predict_proba(np.array(X_test.values))[:,1]\n",
        "y_true = y_test #np.array(y_test.values)\n",
        "y_pred = knMod.predict(X_test) #knMod.predict(np.array(X_test.values))\n",
        "# Compute Area Under the Receiver Operating Characteristic Curve (ROC AUC) from prediction scores\n",
        "KNN_roc_auc = roc_auc_score(y_test, test_labels , average = 'macro', sample_weight = None)\n",
        "knn_recall = recall_score(y_true, y_pred )\n",
        "knn_precision = precision_score(y_true, y_pred )\n",
        "knn_f1_score = f1_score(y_true, y_pred )\n",
        "\n",
        "from sklearn.metrics import plot_confusion_matrix\n",
        "fig, ax = plt.subplots( figsize=(5,5))\n",
        "plot_confusion_matrix(knMod, X_test ,y_test, cmap=plt.cm.Blues, values_format = '.0f',  ax= ax  )\n",
        "plt.title('KNN')\n",
        "plt.show()\n",
        "\n"
      ]
    },
    {
      "cell_type": "code",
      "execution_count": null,
      "metadata": {
        "colab": {
          "base_uri": "https://localhost:8080/"
        },
        "id": "MDGCb35MxFJc",
        "outputId": "16653e58-5c1e-45c9-ed4e-32ded31f0bc4"
      },
      "outputs": [
        {
          "data": {
            "text/plain": [
              "array([0, 0, 0, ..., 1, 0, 0])"
            ]
          },
          "execution_count": 56,
          "metadata": {
            "tags": []
          },
          "output_type": "execute_result"
        }
      ],
      "source": [
        "knMod.predict(X_test)"
      ]
    },
    {
      "cell_type": "code",
      "source": [
        "df = pd.DataFrame(knMod.predict(X_test), columns = ['Predict'])\n",
        "#pd.DataFrame(y_test)\n",
        "\n",
        "df.to_excel('Predict_KNN.xlsx', index = False)"
      ],
      "metadata": {
        "id": "6aL_4ktCYslp"
      },
      "execution_count": null,
      "outputs": []
    },
    {
      "cell_type": "markdown",
      "source": [
        "# Mục mới"
      ],
      "metadata": {
        "id": "XCh5y2ZpakwC"
      }
    },
    {
      "cell_type": "code",
      "execution_count": null,
      "metadata": {
        "colab": {
          "base_uri": "https://localhost:8080/"
        },
        "id": "ZU8G5nSjN-wU",
        "outputId": "b86b3b84-54a2-40ae-d0ec-ad264881576b"
      },
      "outputs": [
        {
          "data": {
            "text/plain": [
              "array([0, 1, 0, ..., 0, 0, 0])"
            ]
          },
          "execution_count": 211,
          "metadata": {
            "tags": []
          },
          "output_type": "execute_result"
        }
      ],
      "source": []
    },
    {
      "cell_type": "code",
      "execution_count": null,
      "metadata": {
        "colab": {
          "base_uri": "https://localhost:8080/",
          "height": 438
        },
        "id": "s_5m-7a8uCM2",
        "outputId": "bff6621d-dd99-4108-ba33-0ccea2d63b64"
      },
      "outputs": [
        {
          "output_type": "stream",
          "name": "stderr",
          "text": [
            "/usr/local/lib/python3.7/dist-packages/sklearn/base.py:451: UserWarning: X does not have valid feature names, but GradientBoostingClassifier was fitted with feature names\n",
            "  \"X does not have valid feature names, but\"\n",
            "/usr/local/lib/python3.7/dist-packages/sklearn/base.py:451: UserWarning: X does not have valid feature names, but GradientBoostingClassifier was fitted with feature names\n",
            "  \"X does not have valid feature names, but\"\n",
            "/usr/local/lib/python3.7/dist-packages/sklearn/utils/deprecation.py:87: FutureWarning: Function plot_confusion_matrix is deprecated; Function `plot_confusion_matrix` is deprecated in 1.0 and will be removed in 1.2. Use one of the class methods: ConfusionMatrixDisplay.from_predictions or ConfusionMatrixDisplay.from_estimator.\n",
            "  warnings.warn(msg, category=FutureWarning)\n"
          ]
        },
        {
          "output_type": "display_data",
          "data": {
            "text/plain": [
              "<Figure size 360x360 with 2 Axes>"
            ],
            "image/png": "[encoded data removed]"
          },
          "metadata": {
            "needs_background": "light"
          }
        }
      ],
      "source": [
        "\n",
        "# Compute the model accuracy on the given test data and labels\n",
        "gb_acc = gbMod.score(X_test, y_test)\n",
        "# Return probability estimates for the test data\n",
        "test_labels = gbMod.predict_proba(np.array(X_test.values))[:,1]\n",
        "y_true = y_test\n",
        "y_pred =  gbMod.predict(np.array(X_test.values))\n",
        "# Compute Area Under the Receiver Operating Characteristic Curve (ROC AUC) from prediction scores\n",
        "GB_roc_auc = roc_auc_score(y_test, test_labels , average = 'macro')\n",
        "gb_recall = recall_score(y_true, y_pred )\n",
        "gb_precision = precision_score(y_true, y_pred )\n",
        "gb_f1_score = f1_score(y_true, y_pred )\n",
        "\n",
        "\n",
        "from sklearn.metrics import plot_confusion_matrix\n",
        "fig, ax = plt.subplots( figsize=(5,5))\n",
        "plot_confusion_matrix(gbMod, X_test , y_test, cmap=plt.cm.Blues, values_format = '.0f',  ax= ax  )\n",
        "plt.title('GB')\n",
        "plt.show()\n",
        "\n",
        "df = pd.DataFrame(y_pred, columns = ['Predict'])\n",
        "#pd.DataFrame(y_test)\n",
        "\n",
        "df.to_excel('Predict_GB.xlsx', index = False)\n",
        "\n",
        "df_2 = pd.DataFrame(y_true, columns = ['True'])\n",
        "#pd.DataFrame(y_test)\n",
        "\n",
        "df_2.to_excel('True_GB.xlsx', index = False)\n"
      ]
    },
    {
      "cell_type": "code",
      "execution_count": null,
      "metadata": {
        "colab": {
          "base_uri": "https://localhost:8080/",
          "height": 380
        },
        "id": "jJ2Q1qVCyxLb",
        "outputId": "9e88fcc4-bcc3-466e-b540-e91fe7463e93"
      },
      "outputs": [
        {
          "output_type": "error",
          "ename": "XGBoostError",
          "evalue": "ignored",
          "traceback": [
            "\u001b[0;31m---------------------------------------------------------------------------\u001b[0m",
            "\u001b[0;31mXGBoostError\u001b[0m                              Traceback (most recent call last)",
            "\u001b[0;32m<ipython-input-44-f371565bffc2>\u001b[0m in \u001b[0;36m<module>\u001b[0;34m()\u001b[0m\n\u001b[1;32m      1\u001b[0m \u001b[0;34m\u001b[0m\u001b[0m\n\u001b[1;32m      2\u001b[0m \u001b[0;31m# Compute the model accuracy on the given test data and labels\u001b[0m\u001b[0;34m\u001b[0m\u001b[0;34m\u001b[0m\u001b[0;34m\u001b[0m\u001b[0m\n\u001b[0;32m----> 3\u001b[0;31m \u001b[0mgb_acc_1\u001b[0m \u001b[0;34m=\u001b[0m \u001b[0mxb\u001b[0m\u001b[0;34m.\u001b[0m\u001b[0mscore\u001b[0m\u001b[0;34m(\u001b[0m\u001b[0mX_test\u001b[0m\u001b[0;34m,\u001b[0m \u001b[0my_test\u001b[0m\u001b[0;34m)\u001b[0m\u001b[0;34m\u001b[0m\u001b[0;34m\u001b[0m\u001b[0m\n\u001b[0m\u001b[1;32m      4\u001b[0m \u001b[0;31m# Return probability estimates for the test data\u001b[0m\u001b[0;34m\u001b[0m\u001b[0;34m\u001b[0m\u001b[0;34m\u001b[0m\u001b[0m\n\u001b[1;32m      5\u001b[0m \u001b[0mtest_labels\u001b[0m \u001b[0;34m=\u001b[0m \u001b[0mxb\u001b[0m\u001b[0;34m.\u001b[0m\u001b[0mpredict_proba\u001b[0m\u001b[0;34m(\u001b[0m\u001b[0mnp\u001b[0m\u001b[0;34m.\u001b[0m\u001b[0marray\u001b[0m\u001b[0;34m(\u001b[0m\u001b[0mX_test\u001b[0m\u001b[0;34m.\u001b[0m\u001b[0mvalues\u001b[0m\u001b[0;34m)\u001b[0m\u001b[0;34m)\u001b[0m\u001b[0;34m[\u001b[0m\u001b[0;34m:\u001b[0m\u001b[0;34m,\u001b[0m\u001b[0;36m1\u001b[0m\u001b[0;34m]\u001b[0m\u001b[0;34m\u001b[0m\u001b[0;34m\u001b[0m\u001b[0m\n",
            "\u001b[0;32m/usr/local/lib/python3.7/dist-packages/sklearn/base.py\u001b[0m in \u001b[0;36mscore\u001b[0;34m(self, X, y, sample_weight)\u001b[0m\n\u001b[1;32m    649\u001b[0m         \u001b[0;32mfrom\u001b[0m \u001b[0;34m.\u001b[0m\u001b[0mmetrics\u001b[0m \u001b[0;32mimport\u001b[0m \u001b[0maccuracy_score\u001b[0m\u001b[0;34m\u001b[0m\u001b[0;34m\u001b[0m\u001b[0m\n\u001b[1;32m    650\u001b[0m \u001b[0;34m\u001b[0m\u001b[0m\n\u001b[0;32m--> 651\u001b[0;31m         \u001b[0;32mreturn\u001b[0m \u001b[0maccuracy_score\u001b[0m\u001b[0;34m(\u001b[0m\u001b[0my\u001b[0m\u001b[0;34m,\u001b[0m \u001b[0mself\u001b[0m\u001b[0;34m.\u001b[0m\u001b[0mpredict\u001b[0m\u001b[0;34m(\u001b[0m\u001b[0mX\u001b[0m\u001b[0;34m)\u001b[0m\u001b[0;34m,\u001b[0m \u001b[0msample_weight\u001b[0m\u001b[0;34m=\u001b[0m\u001b[0msample_weight\u001b[0m\u001b[0;34m)\u001b[0m\u001b[0;34m\u001b[0m\u001b[0;34m\u001b[0m\u001b[0m\n\u001b[0m\u001b[1;32m    652\u001b[0m \u001b[0;34m\u001b[0m\u001b[0m\n\u001b[1;32m    653\u001b[0m     \u001b[0;32mdef\u001b[0m \u001b[0m_more_tags\u001b[0m\u001b[0;34m(\u001b[0m\u001b[0mself\u001b[0m\u001b[0;34m)\u001b[0m\u001b[0;34m:\u001b[0m\u001b[0;34m\u001b[0m\u001b[0;34m\u001b[0m\u001b[0m\n",
            "\u001b[0;32m/usr/local/lib/python3.7/dist-packages/xgboost/sklearn.py\u001b[0m in \u001b[0;36mpredict\u001b[0;34m(self, data, output_margin, ntree_limit, validate_features)\u001b[0m\n\u001b[1;32m    786\u001b[0m         \u001b[0;32mif\u001b[0m \u001b[0mntree_limit\u001b[0m \u001b[0;32mis\u001b[0m \u001b[0;32mNone\u001b[0m\u001b[0;34m:\u001b[0m\u001b[0;34m\u001b[0m\u001b[0;34m\u001b[0m\u001b[0m\n\u001b[1;32m    787\u001b[0m             \u001b[0mntree_limit\u001b[0m \u001b[0;34m=\u001b[0m \u001b[0mgetattr\u001b[0m\u001b[0;34m(\u001b[0m\u001b[0mself\u001b[0m\u001b[0;34m,\u001b[0m \u001b[0;34m\"best_ntree_limit\"\u001b[0m\u001b[0;34m,\u001b[0m \u001b[0;36m0\u001b[0m\u001b[0;34m)\u001b[0m\u001b[0;34m\u001b[0m\u001b[0;34m\u001b[0m\u001b[0m\n\u001b[0;32m--> 788\u001b[0;31m         class_probs = self.get_booster().predict(test_dmatrix,\n\u001b[0m\u001b[1;32m    789\u001b[0m                                                  \u001b[0moutput_margin\u001b[0m\u001b[0;34m=\u001b[0m\u001b[0moutput_margin\u001b[0m\u001b[0;34m,\u001b[0m\u001b[0;34m\u001b[0m\u001b[0;34m\u001b[0m\u001b[0m\n\u001b[1;32m    790\u001b[0m                                                  \u001b[0mntree_limit\u001b[0m\u001b[0;34m=\u001b[0m\u001b[0mntree_limit\u001b[0m\u001b[0;34m,\u001b[0m\u001b[0;34m\u001b[0m\u001b[0;34m\u001b[0m\u001b[0m\n",
            "\u001b[0;32m/usr/local/lib/python3.7/dist-packages/xgboost/sklearn.py\u001b[0m in \u001b[0;36mget_booster\u001b[0;34m(self)\u001b[0m\n\u001b[1;32m    191\u001b[0m         \"\"\"\n\u001b[1;32m    192\u001b[0m         \u001b[0;32mif\u001b[0m \u001b[0mself\u001b[0m\u001b[0;34m.\u001b[0m\u001b[0m_Booster\u001b[0m \u001b[0;32mis\u001b[0m \u001b[0;32mNone\u001b[0m\u001b[0;34m:\u001b[0m\u001b[0;34m\u001b[0m\u001b[0;34m\u001b[0m\u001b[0m\n\u001b[0;32m--> 193\u001b[0;31m             \u001b[0;32mraise\u001b[0m \u001b[0mXGBoostError\u001b[0m\u001b[0;34m(\u001b[0m\u001b[0;34m'need to call fit or load_model beforehand'\u001b[0m\u001b[0;34m)\u001b[0m\u001b[0;34m\u001b[0m\u001b[0;34m\u001b[0m\u001b[0m\n\u001b[0m\u001b[1;32m    194\u001b[0m         \u001b[0;32mreturn\u001b[0m \u001b[0mself\u001b[0m\u001b[0;34m.\u001b[0m\u001b[0m_Booster\u001b[0m\u001b[0;34m\u001b[0m\u001b[0;34m\u001b[0m\u001b[0m\n\u001b[1;32m    195\u001b[0m \u001b[0;34m\u001b[0m\u001b[0m\n",
            "\u001b[0;31mXGBoostError\u001b[0m: need to call fit or load_model beforehand"
          ]
        }
      ],
      "source": [
        "\n",
        "# Compute the model accuracy on the given test data and labels\n",
        "gb_acc_1 = xb.score(X_test, y_test)\n",
        "# Return probability estimates for the test data\n",
        "test_labels = xb.predict_proba(np.array(X_test.values))[:,1]\n",
        "y_true = y_test\n",
        "y_pred =  xb.predict(np.array(X_test.values))\n",
        "# Compute Area Under the Receiver Operating Characteristic Curve (ROC AUC) from prediction scores\n",
        "GB_roc_auc_1 = roc_auc_score(y_test, test_labels , average = 'macro')\n",
        "gb_recall_1 = recall_score(y_true, y_pred )\n",
        "gb_precision_1 = precision_score(y_true, y_pred )\n",
        "gb_f1_score_1 = f1_score(y_true, y_pred )\n",
        "\n",
        "\n",
        "from sklearn.metrics import plot_confusion_matrix\n",
        "fig, ax = plt.subplots( figsize=(5,5))\n",
        "plot_confusion_matrix(gbMod_1, X_test , y_test, cmap=plt.cm.Blues, values_format = '.0f',  ax= ax  )\n",
        "plt.title('GB_1')\n",
        "plt.show()\n",
        "\n"
      ]
    },
    {
      "cell_type": "code",
      "execution_count": null,
      "metadata": {
        "colab": {
          "base_uri": "https://localhost:8080/",
          "height": 438
        },
        "id": "z-fCY3aEuKCQ",
        "outputId": "9c5080e2-2be1-4491-b065-d770dba1df3f"
      },
      "outputs": [
        {
          "output_type": "stream",
          "name": "stderr",
          "text": [
            "/usr/local/lib/python3.7/dist-packages/sklearn/base.py:451: UserWarning: X does not have valid feature names, but RandomForestClassifier was fitted with feature names\n",
            "  \"X does not have valid feature names, but\"\n",
            "/usr/local/lib/python3.7/dist-packages/sklearn/base.py:451: UserWarning: X does not have valid feature names, but RandomForestClassifier was fitted with feature names\n",
            "  \"X does not have valid feature names, but\"\n",
            "/usr/local/lib/python3.7/dist-packages/sklearn/utils/deprecation.py:87: FutureWarning: Function plot_confusion_matrix is deprecated; Function `plot_confusion_matrix` is deprecated in 1.0 and will be removed in 1.2. Use one of the class methods: ConfusionMatrixDisplay.from_predictions or ConfusionMatrixDisplay.from_estimator.\n",
            "  warnings.warn(msg, category=FutureWarning)\n"
          ]
        },
        {
          "output_type": "display_data",
          "data": {
            "text/plain": [
              "<Figure size 360x360 with 2 Axes>"
            ],
            "image/png": "[encoded data removed]"
          },
          "metadata": {
            "needs_background": "light"
          }
        }
      ],
      "source": [
        "# Compute the model accuracy on the given test data and labels\n",
        "rf_acc = rfMod.score(X_test, y_test)\n",
        "# Return probability estimates for the test data\n",
        "test_labels = rfMod.predict_proba(np.array(X_test.values))[:,1]\n",
        "y_true = y_test\n",
        "y_pred =  rfMod.predict(np.array(X_test.values))\n",
        "# Compute Area Under the Receiver Operating Characteristic Curve (ROC AUC) from prediction scores\n",
        "RF_roc_auc = roc_auc_score(y_test, test_labels , average = 'macro')\n",
        "rf_recall = recall_score(y_true, y_pred )\n",
        "rf_precision = precision_score(y_true, y_pred )\n",
        "rf_f1_score = f1_score(y_true, y_pred )\n",
        "\n",
        "from sklearn.metrics import plot_confusion_matrix\n",
        "fig, ax = plt.subplots( figsize=(5,5))\n",
        "plot_confusion_matrix(rfMod, X_test , y_test, cmap=plt.cm.Blues, values_format = '.0f',  ax= ax  )\n",
        "plt.title('RF')\n",
        "plt.show()"
      ]
    },
    {
      "cell_type": "code",
      "source": [
        "y_true"
      ],
      "metadata": {
        "colab": {
          "base_uri": "https://localhost:8080/"
        },
        "id": "yN0UMcPgkZWa",
        "outputId": "686d1d90-a942-4663-ade0-81472e92b43f"
      },
      "execution_count": null,
      "outputs": [
        {
          "output_type": "execute_result",
          "data": {
            "text/plain": [
              "3363     0\n",
              "26388    1\n",
              "16734    0\n",
              "14000    0\n",
              "5800     1\n",
              "        ..\n",
              "1206     1\n",
              "33005    1\n",
              "12151    1\n",
              "47757    0\n",
              "5890     0\n",
              "Name: churn, Length: 20029, dtype: int64"
            ]
          },
          "metadata": {},
          "execution_count": 44
        }
      ]
    },
    {
      "cell_type": "code",
      "source": [],
      "metadata": {
        "id": "bJHyAA2RpNMx"
      },
      "execution_count": null,
      "outputs": []
    },
    {
      "cell_type": "code",
      "source": [],
      "metadata": {
        "id": "rGOtYOr1pTnS"
      },
      "execution_count": null,
      "outputs": []
    },
    {
      "cell_type": "code",
      "execution_count": null,
      "metadata": {
        "colab": {
          "base_uri": "https://localhost:8080/",
          "height": 365
        },
        "id": "r1p5WFIyuMLc",
        "outputId": "f4c496e5-33d8-47dc-8d34-0d042bbb13f4"
      },
      "outputs": [
        {
          "output_type": "stream",
          "name": "stderr",
          "text": [
            "/usr/local/lib/python3.7/dist-packages/sklearn/utils/deprecation.py:87: FutureWarning: Function plot_confusion_matrix is deprecated; Function `plot_confusion_matrix` is deprecated in 1.0 and will be removed in 1.2. Use one of the class methods: ConfusionMatrixDisplay.from_predictions or ConfusionMatrixDisplay.from_estimator.\n",
            "  warnings.warn(msg, category=FutureWarning)\n"
          ]
        },
        {
          "output_type": "display_data",
          "data": {
            "text/plain": [
              "<Figure size 360x360 with 2 Axes>"
            ],
            "image/png": "[encoded data removed]"
          },
          "metadata": {
            "needs_background": "light"
          }
        }
      ],
      "source": [
        "# Compute the model accuracy on the given test data and labels\n",
        "XG_acc = XGMod.score(X_test, y_test)\n",
        "# Return probability estimates for the test data\n",
        "test_labels = XGMod.predict_proba(X_test)[:,1]\n",
        "y_true = y_test\n",
        "y_pred = XGMod.predict(X_test)\n",
        "# Compute Area Under the Receiver Operating Characteristic Curve (ROC AUC) from prediction scores\n",
        "XG_roc_auc = roc_auc_score(y_test, test_labels)\n",
        "XG_recall = recall_score(y_true, y_pred )\n",
        "XG_precision = precision_score(y_true, y_pred )\n",
        "XG_f1_score = f1_score(y_true, y_pred )\n",
        "\n",
        "from sklearn.metrics import plot_confusion_matrix\n",
        "fig, ax = plt.subplots( figsize=(5,5))\n",
        "plot_confusion_matrix(XGMod, X_test , y_test, cmap=plt.cm.Blues, values_format = '.0f',  ax= ax  )\n",
        "plt.title('XGB')\n",
        "plt.show()"
      ]
    },
    {
      "cell_type": "code",
      "execution_count": null,
      "metadata": {
        "colab": {
          "base_uri": "https://localhost:8080/",
          "height": 112
        },
        "id": "4FTcYW_JuR5J",
        "outputId": "7a119c7e-0bed-4379-842f-c95e785831db"
      },
      "outputs": [
        {
          "output_type": "execute_result",
          "data": {
            "text/plain": [
              "                  Accuracy   Roc_Auc  F1_Score    Recall  Precision\n",
              "GradientBoosting  0.796196  0.862114  0.695691  0.655245   0.741459\n",
              "XGBoost           0.795696  0.862107  0.697203  0.661564   0.736900"
            ],
            "text/html": [
              "\n",
              "  <div id=\"df-168e0495-4007-4cc4-880c-fa393eff8770\">\n",
              "    <div class=\"colab-df-container\">\n",
              "      <div>\n",
              "<style scoped>\n",
              "    .dataframe tbody tr th:only-of-type {\n",
              "        vertical-align: middle;\n",
              "    }\n",
              "\n",
              "    .dataframe tbody tr th {\n",
              "        vertical-align: top;\n",
              "    }\n",
              "\n",
              "    .dataframe thead th {\n",
              "        text-align: right;\n",
              "    }\n",
              "</style>\n",
              "<table border=\"1\" class=\"dataframe\">\n",
              "  <thead>\n",
              "    <tr style=\"text-align: right;\">\n",
              "      <th></th>\n",
              "      <th>Accuracy</th>\n",
              "      <th>Roc_Auc</th>\n",
              "      <th>F1_Score</th>\n",
              "      <th>Recall</th>\n",
              "      <th>Precision</th>\n",
              "    </tr>\n",
              "  </thead>\n",
              "  <tbody>\n",
              "    <tr>\n",
              "      <th>GradientBoosting</th>\n",
              "      <td>0.796196</td>\n",
              "      <td>0.862114</td>\n",
              "      <td>0.695691</td>\n",
              "      <td>0.655245</td>\n",
              "      <td>0.741459</td>\n",
              "    </tr>\n",
              "    <tr>\n",
              "      <th>XGBoost</th>\n",
              "      <td>0.795696</td>\n",
              "      <td>0.862107</td>\n",
              "      <td>0.697203</td>\n",
              "      <td>0.661564</td>\n",
              "      <td>0.736900</td>\n",
              "    </tr>\n",
              "  </tbody>\n",
              "</table>\n",
              "</div>\n",
              "      <button class=\"colab-df-convert\" onclick=\"convertToInteractive('df-168e0495-4007-4cc4-880c-fa393eff8770')\"\n",
              "              title=\"Convert this dataframe to an interactive table.\"\n",
              "              style=\"display:none;\">\n",
              "        \n",
              "  <svg xmlns=\"http://www.w3.org/2000/svg\" height=\"24px\"viewBox=\"0 0 24 24\"\n",
              "       width=\"24px\">\n",
              "    <path d=\"M0 0h24v24H0V0z\" fill=\"none\"/>\n",
              "    <path d=\"M18.56 5.44l.94 2.06.94-2.06 2.06-.94-2.06-.94-.94-2.06-.94 2.06-2.06.94zm-11 1L8.5 8.5l.94-2.06 2.06-.94-2.06-.94L8.5 2.5l-.94 2.06-2.06.94zm10 10l.94 2.06.94-2.06 2.06-.94-2.06-.94-.94-2.06-.94 2.06-2.06.94z\"/><path d=\"M17.41 7.96l-1.37-1.37c-.4-.4-.92-.59-1.43-.59-.52 0-1.04.2-1.43.59L10.3 9.45l-7.72 7.72c-.78.78-.78 2.05 0 2.83L4 21.41c.39.39.9.59 1.41.59.51 0 1.02-.2 1.41-.59l7.78-7.78 2.81-2.81c.8-.78.8-2.07 0-2.86zM5.41 20L4 18.59l7.72-7.72 1.47 1.35L5.41 20z\"/>\n",
              "  </svg>\n",
              "      </button>\n",
              "      \n",
              "  <style>\n",
              "    .colab-df-container {\n",
              "      display:flex;\n",
              "      flex-wrap:wrap;\n",
              "      gap: 12px;\n",
              "    }\n",
              "\n",
              "    .colab-df-convert {\n",
              "      background-color: #E8F0FE;\n",
              "      border: none;\n",
              "      border-radius: 50%;\n",
              "      cursor: pointer;\n",
              "      display: none;\n",
              "      fill: #1967D2;\n",
              "      height: 32px;\n",
              "      padding: 0 0 0 0;\n",
              "      width: 32px;\n",
              "    }\n",
              "\n",
              "    .colab-df-convert:hover {\n",
              "      background-color: #E2EBFA;\n",
              "      box-shadow: 0px 1px 2px rgba(60, 64, 67, 0.3), 0px 1px 3px 1px rgba(60, 64, 67, 0.15);\n",
              "      fill: #174EA6;\n",
              "    }\n",
              "\n",
              "    [theme=dark] .colab-df-convert {\n",
              "      background-color: #3B4455;\n",
              "      fill: #D2E3FC;\n",
              "    }\n",
              "\n",
              "    [theme=dark] .colab-df-convert:hover {\n",
              "      background-color: #434B5C;\n",
              "      box-shadow: 0px 1px 3px 1px rgba(0, 0, 0, 0.15);\n",
              "      filter: drop-shadow(0px 1px 2px rgba(0, 0, 0, 0.3));\n",
              "      fill: #FFFFFF;\n",
              "    }\n",
              "  </style>\n",
              "\n",
              "      <script>\n",
              "        const buttonEl =\n",
              "          document.querySelector('#df-168e0495-4007-4cc4-880c-fa393eff8770 button.colab-df-convert');\n",
              "        buttonEl.style.display =\n",
              "          google.colab.kernel.accessAllowed ? 'block' : 'none';\n",
              "\n",
              "        async function convertToInteractive(key) {\n",
              "          const element = document.querySelector('#df-168e0495-4007-4cc4-880c-fa393eff8770');\n",
              "          const dataTable =\n",
              "            await google.colab.kernel.invokeFunction('convertToInteractive',\n",
              "                                                     [key], {});\n",
              "          if (!dataTable) return;\n",
              "\n",
              "          const docLinkHtml = 'Like what you see? Visit the ' +\n",
              "            '<a target=\"_blank\" href=https://colab.research.google.com/notebooks/data_table.ipynb>data table notebook</a>'\n",
              "            + ' to learn more about interactive tables.';\n",
              "          element.innerHTML = '';\n",
              "          dataTable['output_type'] = 'display_data';\n",
              "          await google.colab.output.renderOutput(dataTable, element);\n",
              "          const docLink = document.createElement('div');\n",
              "          docLink.innerHTML = docLinkHtml;\n",
              "          element.appendChild(docLink);\n",
              "        }\n",
              "      </script>\n",
              "    </div>\n",
              "  </div>\n",
              "  "
            ]
          },
          "metadata": {},
          "execution_count": 48
        }
      ],
      "source": [
        "models = ['GradientBoosting', 'XGBoost' ]\n",
        "accuracy = [gb_acc_1, XG_acc ]\n",
        "roc_auc = [ GB_roc_auc_1, XG_roc_auc ]\n",
        "f1_score = [ gb_f1_score_1, XG_f1_score]\n",
        "recall = [ gb_recall_1, XG_recall ]\n",
        "precision = [ gb_precision_1, XG_precision]\n",
        "d = {'Accuracy': accuracy, 'Roc_Auc': roc_auc, 'F1_Score':f1_score, 'Recall':recall, 'Precision':precision}\n",
        "df_metrics = pd.DataFrame(d, index = models)\n",
        "df_metrics"
      ]
    },
    {
      "cell_type": "code",
      "execution_count": null,
      "metadata": {
        "id": "vAfRAEaausMi"
      },
      "outputs": [],
      "source": [
        "S# fpr_knn, tpr_knn, _ = roc_curve(y_test, knMod.predict_proba(np.array(X_test.values))[:,1])\n",
        "# fpr_rf, tpr_rf, _ = roc_curve(y_test, rfMod.predict_proba(np.array(X_test.values))[:,1])\n",
        "# fpr_gb, tpr_gb, _ = roc_curve(y_test, gbMod.predict_proba(np.array(X_test.values))[:,1])\n",
        "fpr_xgb, tpr_xgb, _ = roc_curve(y_test, XGMod.predict_proba(X_test)[:,1])"
      ]
    },
    {
      "cell_type": "code",
      "source": [],
      "metadata": {
        "colab": {
          "base_uri": "https://localhost:8080/"
        },
        "id": "Y2JXpBaZabJz",
        "outputId": "357f2d71-12e2-455b-d534-cb3d718dd7b8"
      },
      "execution_count": null,
      "outputs": [
        {
          "output_type": "execute_result",
          "data": {
            "text/plain": [
              "array([0.        , 0.01030369, 0.06329408, 0.22745584, 0.50588782,\n",
              "       0.80880074, 1.        ])"
            ]
          },
          "metadata": {},
          "execution_count": 38
        }
      ]
    },
    {
      "cell_type": "code",
      "source": [
        "from scikit-learn import metrics"
      ],
      "metadata": {
        "colab": {
          "base_uri": "https://localhost:8080/",
          "height": 134
        },
        "id": "1i_mAmWYT_L-",
        "outputId": "70ba8bb3-e191-4a69-8266-cd311d74f882"
      },
      "execution_count": null,
      "outputs": [
        {
          "output_type": "error",
          "ename": "SyntaxError",
          "evalue": "ignored",
          "traceback": [
            "\u001b[0;36m  File \u001b[0;32m\"<ipython-input-35-26bcd919780b>\"\u001b[0;36m, line \u001b[0;32m1\u001b[0m\n\u001b[0;31m    from scikit-learn import metrics\u001b[0m\n\u001b[0m               ^\u001b[0m\n\u001b[0;31mSyntaxError\u001b[0m\u001b[0;31m:\u001b[0m invalid syntax\n"
          ]
        }
      ]
    },
    {
      "cell_type": "code",
      "execution_count": null,
      "metadata": {
        "colab": {
          "base_uri": "https://localhost:8080/",
          "height": 404
        },
        "id": "eb8MMtPBvdY6",
        "outputId": "952449b6-efba-4d9e-a401-2f3ec327c517"
      },
      "outputs": [
        {
          "output_type": "display_data",
          "data": {
            "text/plain": [
              "<Figure size 864x432 with 1 Axes>"
            ],
            "image/png": "[encoded data removed]"
          },
          "metadata": {
            "needs_background": "light"
          }
        }
      ],
      "source": [
        "# Plot the roc curve\n",
        "plt.figure(figsize = (12,6), linewidth= 1)\n",
        "# plt.plot(fpr_knn, tpr_knn, label = 'KNN Score: ' + str(round(KNN_roc_auc, 5)))\n",
        "# plt.plot(fpr_rf, tpr_rf, label = 'RF score: ' + str(round(RF_roc_auc, 5)))\n",
        "# plt.plot(fpr_gb, tpr_gb, label = 'GB Score: ' + str(round(GB_roc_auc, 5)))\n",
        "plt.plot(fpr_xgb, tpr_xgb, label = 'XGBoost Score: ' + str(round(XG_roc_auc, 5)))\n",
        "\n",
        "\n",
        "plt.plot([0,1], [0,1], 'k--', label = 'Random guessing: 0.5')\n",
        "plt.xlabel('False positive rate')\n",
        "plt.ylabel('True positive rate')\n",
        "plt.title('ROC Curve ')\n",
        "plt.legend(loc='best')\n",
        "plt.show()"
      ]
    },
    {
      "cell_type": "code",
      "execution_count": null,
      "metadata": {
        "colab": {
          "base_uri": "https://localhost:8080/",
          "height": 388
        },
        "id": "5gsb_7XLvh0E",
        "outputId": "663259a6-99ca-492b-b9b4-851dcfd58da6"
      },
      "outputs": [
        {
          "output_type": "display_data",
          "data": {
            "text/plain": [
              "<Figure size 720x432 with 1 Axes>"
            ],
            "image/png": "[encoded data removed]"
          },
          "metadata": {
            "needs_background": "light"
          }
        }
      ],
      "source": [
        "plt.figure(figsize=(10,6))\n",
        "# sns.kdeplot( knMod.predict_proba(np.array(X_test.values))[:,1], label='KNN')\n",
        "# sns.kdeplot(rfMod.predict_proba(np.array(X_test.values))[:,1], label='Random Forest')\n",
        "# sns.kdeplot(gbMod.predict_proba(np.array(X_test.values))[:,1], label='Gradient Boosting')\n",
        "sns.kdeplot(XGMod.predict_proba(X_test)[:,1], label = 'XGBoost')\n",
        "#plt.title(\"Biểu đồ mật độ xác suất cho 4 mô hình phân loại\")\n",
        "plt.legend()\n",
        "plt.ylabel('Density')\n",
        "plt.xlabel('Probability')\n",
        "plt.show()"
      ]
    },
    {
      "cell_type": "code",
      "execution_count": null,
      "metadata": {
        "id": "9PInyfEzVAR9"
      },
      "outputs": [],
      "source": []
    },
    {
      "cell_type": "markdown",
      "metadata": {
        "id": "uKmawekvQQHF"
      },
      "source": [
        "**Feature importances**"
      ]
    },
    {
      "cell_type": "code",
      "execution_count": null,
      "metadata": {
        "colab": {
          "base_uri": "https://localhost:8080/",
          "height": 374
        },
        "id": "qNgGTJGKyJ63",
        "outputId": "57c276db-1809-411e-9641-d02c20483670"
      },
      "outputs": [
        {
          "ename": "ValueError",
          "evalue": "ignored",
          "output_type": "error",
          "traceback": [
            "\u001b[0;31m---------------------------------------------------------------------------\u001b[0m",
            "\u001b[0;31mValueError\u001b[0m                                Traceback (most recent call last)",
            "\u001b[0;32m<ipython-input-39-e7ec32efd822>\u001b[0m in \u001b[0;36m<module>\u001b[0;34m()\u001b[0m\n\u001b[1;32m      4\u001b[0m \u001b[0;31m# plot feature importance\u001b[0m\u001b[0;34m\u001b[0m\u001b[0;34m\u001b[0m\u001b[0;34m\u001b[0m\u001b[0m\n\u001b[1;32m      5\u001b[0m \u001b[0;32mfrom\u001b[0m \u001b[0mxgboost\u001b[0m \u001b[0;32mimport\u001b[0m \u001b[0mplot_importance\u001b[0m\u001b[0;34m\u001b[0m\u001b[0;34m\u001b[0m\u001b[0m\n\u001b[0;32m----> 6\u001b[0;31m \u001b[0mplot_importance\u001b[0m\u001b[0;34m(\u001b[0m\u001b[0mgbMod\u001b[0m\u001b[0;34m)\u001b[0m\u001b[0;34m\u001b[0m\u001b[0;34m\u001b[0m\u001b[0m\n\u001b[0m\u001b[1;32m      7\u001b[0m \u001b[0mplt\u001b[0m\u001b[0;34m.\u001b[0m\u001b[0mshow\u001b[0m\u001b[0;34m(\u001b[0m\u001b[0;34m)\u001b[0m\u001b[0;34m\u001b[0m\u001b[0;34m\u001b[0m\u001b[0m\n\u001b[1;32m      8\u001b[0m \u001b[0mpyplot\u001b[0m\u001b[0;34m.\u001b[0m\u001b[0mbar\u001b[0m\u001b[0;34m(\u001b[0m\u001b[0mrange\u001b[0m\u001b[0;34m(\u001b[0m\u001b[0mlen\u001b[0m\u001b[0;34m(\u001b[0m\u001b[0mmodel\u001b[0m\u001b[0;34m.\u001b[0m\u001b[0mfeature_importances_\u001b[0m\u001b[0;34m)\u001b[0m\u001b[0;34m)\u001b[0m\u001b[0;34m,\u001b[0m \u001b[0mmodel\u001b[0m\u001b[0;34m.\u001b[0m\u001b[0mfeature_importances_\u001b[0m\u001b[0;34m)\u001b[0m\u001b[0;34m\u001b[0m\u001b[0;34m\u001b[0m\u001b[0m\n",
            "\u001b[0;32m/usr/local/lib/python3.7/dist-packages/xgboost/plotting.py\u001b[0m in \u001b[0;36mplot_importance\u001b[0;34m(booster, ax, height, xlim, ylim, title, xlabel, ylabel, importance_type, max_num_features, grid, show_values, **kwargs)\u001b[0m\n\u001b[1;32m     68\u001b[0m         \u001b[0mimportance\u001b[0m \u001b[0;34m=\u001b[0m \u001b[0mbooster\u001b[0m\u001b[0;34m\u001b[0m\u001b[0;34m\u001b[0m\u001b[0m\n\u001b[1;32m     69\u001b[0m     \u001b[0;32melse\u001b[0m\u001b[0;34m:\u001b[0m\u001b[0;34m\u001b[0m\u001b[0;34m\u001b[0m\u001b[0m\n\u001b[0;32m---> 70\u001b[0;31m         \u001b[0;32mraise\u001b[0m \u001b[0mValueError\u001b[0m\u001b[0;34m(\u001b[0m\u001b[0;34m'tree must be Booster, XGBModel or dict instance'\u001b[0m\u001b[0;34m)\u001b[0m\u001b[0;34m\u001b[0m\u001b[0;34m\u001b[0m\u001b[0m\n\u001b[0m\u001b[1;32m     71\u001b[0m \u001b[0;34m\u001b[0m\u001b[0m\n\u001b[1;32m     72\u001b[0m     \u001b[0;32mif\u001b[0m \u001b[0;32mnot\u001b[0m \u001b[0mimportance\u001b[0m\u001b[0;34m:\u001b[0m\u001b[0;34m\u001b[0m\u001b[0;34m\u001b[0m\u001b[0m\n",
            "\u001b[0;31mValueError\u001b[0m: tree must be Booster, XGBModel or dict instance"
          ]
        }
      ],
      "source": [
        "#xgb.plot_importance(clf, max_num_features=10, height=1.2);\n",
        "#XGMod.feature_importances_\n",
        "\n",
        "# plot feature importance\n",
        "from xgboost import plot_importance\n",
        "plot_importance(gbMod)\n",
        "plt.show()\n",
        "pyplot.bar(range(len(model.feature_importances_)), model.feature_importances_)\n",
        "from xgboost import plot_importance\n"
      ]
    },
    {
      "cell_type": "code",
      "execution_count": null,
      "metadata": {
        "colab": {
          "base_uri": "https://localhost:8080/",
          "height": 265
        },
        "id": "bJW8WTTX5sOV",
        "outputId": "f8a7afb0-9606-4ade-e9c2-5d0876efe131"
      },
      "outputs": [
        {
          "data": {
            "image/png": "[encoded data removed]",
            "text/plain": [
              "<Figure size 432x288 with 1 Axes>"
            ]
          },
          "metadata": {},
          "output_type": "display_data"
        }
      ],
      "source": [
        "plt.bar(range(X.shape[1]),XGMod.feature_importances_, color = \"green\", align = \"center\")\n",
        "plt.show()"
      ]
    },
    {
      "cell_type": "code",
      "execution_count": null,
      "metadata": {
        "colab": {
          "base_uri": "https://localhost:8080/",
          "height": 162
        },
        "id": "GoAEoSJsIIvh",
        "outputId": "aa88dd48-028f-41c7-fd97-edad39d50550"
      },
      "outputs": [
        {
          "ename": "NameError",
          "evalue": "ignored",
          "output_type": "error",
          "traceback": [
            "\u001b[0;31m---------------------------------------------------------------------------\u001b[0m",
            "\u001b[0;31mNameError\u001b[0m                                 Traceback (most recent call last)",
            "\u001b[0;32m<ipython-input-1-1f4a31d8b012>\u001b[0m in \u001b[0;36m<module>\u001b[0;34m()\u001b[0m\n\u001b[0;32m----> 1\u001b[0;31m \u001b[0mknMod\u001b[0m\u001b[0;34m.\u001b[0m\u001b[0mpredict_proba\u001b[0m\u001b[0;34m(\u001b[0m\u001b[0mnp\u001b[0m\u001b[0;34m.\u001b[0m\u001b[0marray\u001b[0m\u001b[0;34m(\u001b[0m\u001b[0mX_test\u001b[0m\u001b[0;34m.\u001b[0m\u001b[0mvalues\u001b[0m\u001b[0;34m)\u001b[0m\u001b[0;34m)\u001b[0m\u001b[0;34m[\u001b[0m\u001b[0;34m:\u001b[0m\u001b[0;34m,\u001b[0m\u001b[0;36m1\u001b[0m\u001b[0;34m]\u001b[0m\u001b[0;34m\u001b[0m\u001b[0;34m\u001b[0m\u001b[0m\n\u001b[0m",
            "\u001b[0;31mNameError\u001b[0m: name 'knMod' is not defined"
          ]
        }
      ],
      "source": [
        "knMod.predict_proba(np.array(X_test.values))[:,1]"
      ]
    },
    {
      "cell_type": "code",
      "execution_count": null,
      "metadata": {
        "colab": {
          "base_uri": "https://localhost:8080/",
          "height": 421
        },
        "id": "26ehYCu14O2d",
        "outputId": "c9bbf83b-a2cc-4fc5-d378-6ee8b6901fcf"
      },
      "outputs": [
        {
          "data": {
            "image/png": "[encoded data removed]",
            "text/plain": [
              "<Figure size 432x288 with 1 Axes>"
            ]
          },
          "metadata": {},
          "output_type": "display_data"
        }
      ],
      "source": [
        "\n",
        "\n",
        "from xgboost import plot_importance\n",
        "plt.title('Feature Importances')\n",
        "plt.bar(range(X.shape[1]),XGMod.feature_importances_,  color = \"blue\", align = \"center\")\n",
        "plt.xticks(range(X.shape[1]), X.columns, rotation = 90)\n",
        "plt.show()"
      ]
    },
    {
      "cell_type": "code",
      "execution_count": null,
      "metadata": {
        "id": "fxD0IIEf2Ub7"
      },
      "outputs": [],
      "source": [
        "training_data_v2 =training_data.drop(['verify_method', 'min_termdeposite_balance', 'max_termdeposite_balance', 'no_loan', 'avg_loan_balance', 'max_loan_balance', 'no_cc'], axis =1)"
      ]
    },
    {
      "cell_type": "code",
      "execution_count": null,
      "metadata": {
        "id": "AdhCX4_e6MQp"
      },
      "outputs": [],
      "source": [
        "params = {\n",
        "    'booster': 'gbtree',\n",
        "    'objective': 'binary:logistic',\n",
        "    'max_depth': 3,\n",
        "    'nthread': 8,\n",
        "    'num_leaves': 8,\n",
        "    'eval_metric': ['logloss', 'auc'],\n",
        "    'learning_rate': 0.001\n",
        "}\n",
        "eval_results = {}\n",
        "clf = xgb.train(params, train_set, num_boost_round=4000, evals=[(train_set, 'train'), (test_set, 'eval')],\n",
        "                evals_result=eval_results, verbose_eval=False)"
      ]
    },
    {
      "cell_type": "code",
      "execution_count": null,
      "metadata": {
        "colab": {
          "base_uri": "https://localhost:8080/",
          "height": 320
        },
        "id": "o5W2Bw7N6Nyk",
        "outputId": "6be3a3b2-c465-4f7b-9d1b-c3d4382ff60f"
      },
      "outputs": [
        {
          "data": {
            "image/png": "[encoded data removed]",
            "text/plain": [
              "<Figure size 1080x360 with 2 Axes>"
            ]
          },
          "metadata": {
            "tags": []
          },
          "output_type": "display_data"
        }
      ],
      "source": [
        "fig, ax = plt.subplots(1, 2, figsize=(15, 5))\n",
        "ax[0].plot(eval_results['train']['logloss'], label='Train logloss')\n",
        "ax[0].plot(eval_results['eval']['logloss'], label='Test logloss')\n",
        "ax[0].legend(loc='upper left')\n",
        "\n",
        "ax[1].plot(eval_results['train']['auc'], label='Train auc')\n",
        "ax[1].plot(eval_results['eval']['auc'], label='Test auc')\n",
        "ax[1].legend(loc='upper left')\n",
        "plt.show()"
      ]
    },
    {
      "cell_type": "markdown",
      "metadata": {
        "id": "VlRIIpcTQWel"
      },
      "source": [
        "**Basic Statistic**"
      ]
    },
    {
      "cell_type": "code",
      "execution_count": null,
      "metadata": {
        "id": "fxGREwzf-AYz"
      },
      "outputs": [],
      "source": [
        "df = X_train.describe()\n",
        "df.to_excel(\"/content/drive/MyDrive/KLTN/Describe_1.xlsx\")"
      ]
    },
    {
      "cell_type": "code",
      "execution_count": null,
      "metadata": {
        "colab": {
          "base_uri": "https://localhost:8080/",
          "height": 319
        },
        "id": "8VZlyTuITvtr",
        "outputId": "1b5acc26-0ffa-4e01-9c9b-3c2a10488b35"
      },
      "outputs": [
        {
          "data": {
            "text/html": [
              "<div>\n",
              "<style scoped>\n",
              "    .dataframe tbody tr th:only-of-type {\n",
              "        vertical-align: middle;\n",
              "    }\n",
              "\n",
              "    .dataframe tbody tr th {\n",
              "        vertical-align: top;\n",
              "    }\n",
              "\n",
              "    .dataframe thead th {\n",
              "        text-align: right;\n",
              "    }\n",
              "</style>\n",
              "<table border=\"1\" class=\"dataframe\">\n",
              "  <thead>\n",
              "    <tr style=\"text-align: right;\">\n",
              "      <th></th>\n",
              "      <th>client_sex</th>\n",
              "      <th>age</th>\n",
              "      <th>staff_vib</th>\n",
              "      <th>sms</th>\n",
              "      <th>tenure</th>\n",
              "      <th>eb_register_channel</th>\n",
              "      <th>no.activity_name</th>\n",
              "      <th>type_trans_lv2</th>\n",
              "      <th>total_trans_no</th>\n",
              "      <th>avg_trans_no/month</th>\n",
              "      <th>avg_trans_amount</th>\n",
              "      <th>max_trans_amount</th>\n",
              "      <th>min_trans_amount</th>\n",
              "      <th>no_currentaccount</th>\n",
              "      <th>avg_currentaccount_balance</th>\n",
              "      <th>max_currentaccount_balance</th>\n",
              "      <th>min_currentaccount_balance</th>\n",
              "      <th>no_termdeposite</th>\n",
              "      <th>avg_termdeposite_balance</th>\n",
              "      <th>min_loan_balance</th>\n",
              "      <th>no_dc</th>\n",
              "    </tr>\n",
              "  </thead>\n",
              "  <tbody>\n",
              "    <tr>\n",
              "      <th>count</th>\n",
              "      <td>20029.000000</td>\n",
              "      <td>20029.000000</td>\n",
              "      <td>20029.000000</td>\n",
              "      <td>20029.000000</td>\n",
              "      <td>20029.000000</td>\n",
              "      <td>20029.000000</td>\n",
              "      <td>20029.000000</td>\n",
              "      <td>20029.000000</td>\n",
              "      <td>20029.000000</td>\n",
              "      <td>20029.000000</td>\n",
              "      <td>2.002900e+04</td>\n",
              "      <td>2.002900e+04</td>\n",
              "      <td>2.002900e+04</td>\n",
              "      <td>20029.000000</td>\n",
              "      <td>2.002900e+04</td>\n",
              "      <td>2.002900e+04</td>\n",
              "      <td>2.002900e+04</td>\n",
              "      <td>20029.000000</td>\n",
              "      <td>2.002900e+04</td>\n",
              "      <td>2.002900e+04</td>\n",
              "      <td>20029.000000</td>\n",
              "    </tr>\n",
              "    <tr>\n",
              "      <th>mean</th>\n",
              "      <td>0.586799</td>\n",
              "      <td>29.820011</td>\n",
              "      <td>0.023216</td>\n",
              "      <td>0.659644</td>\n",
              "      <td>5.349004</td>\n",
              "      <td>1.029707</td>\n",
              "      <td>10.321933</td>\n",
              "      <td>1.715013</td>\n",
              "      <td>24.302262</td>\n",
              "      <td>4.318838</td>\n",
              "      <td>7.652753e+06</td>\n",
              "      <td>2.882369e+07</td>\n",
              "      <td>2.400586e+06</td>\n",
              "      <td>1.016177</td>\n",
              "      <td>7.801410e+06</td>\n",
              "      <td>2.179213e+07</td>\n",
              "      <td>1.311626e+06</td>\n",
              "      <td>0.315992</td>\n",
              "      <td>4.160508e+07</td>\n",
              "      <td>1.319525e+08</td>\n",
              "      <td>0.805282</td>\n",
              "    </tr>\n",
              "    <tr>\n",
              "      <th>std</th>\n",
              "      <td>0.492421</td>\n",
              "      <td>8.050607</td>\n",
              "      <td>0.150594</td>\n",
              "      <td>0.473841</td>\n",
              "      <td>2.977977</td>\n",
              "      <td>0.350563</td>\n",
              "      <td>3.169975</td>\n",
              "      <td>1.463682</td>\n",
              "      <td>72.692019</td>\n",
              "      <td>11.593323</td>\n",
              "      <td>3.440231e+07</td>\n",
              "      <td>9.297291e+07</td>\n",
              "      <td>2.525917e+07</td>\n",
              "      <td>0.191015</td>\n",
              "      <td>4.710034e+07</td>\n",
              "      <td>2.461732e+08</td>\n",
              "      <td>8.409725e+06</td>\n",
              "      <td>1.091415</td>\n",
              "      <td>3.178148e+08</td>\n",
              "      <td>4.141967e+08</td>\n",
              "      <td>0.658349</td>\n",
              "    </tr>\n",
              "    <tr>\n",
              "      <th>min</th>\n",
              "      <td>0.000000</td>\n",
              "      <td>18.000000</td>\n",
              "      <td>0.000000</td>\n",
              "      <td>0.000000</td>\n",
              "      <td>1.030000</td>\n",
              "      <td>0.000000</td>\n",
              "      <td>1.000000</td>\n",
              "      <td>0.000000</td>\n",
              "      <td>0.000000</td>\n",
              "      <td>0.000000</td>\n",
              "      <td>0.000000e+00</td>\n",
              "      <td>0.000000e+00</td>\n",
              "      <td>0.000000e+00</td>\n",
              "      <td>1.000000</td>\n",
              "      <td>0.000000e+00</td>\n",
              "      <td>0.000000e+00</td>\n",
              "      <td>0.000000e+00</td>\n",
              "      <td>0.000000</td>\n",
              "      <td>0.000000e+00</td>\n",
              "      <td>0.000000e+00</td>\n",
              "      <td>0.000000</td>\n",
              "    </tr>\n",
              "    <tr>\n",
              "      <th>25%</th>\n",
              "      <td>0.000000</td>\n",
              "      <td>24.000000</td>\n",
              "      <td>0.000000</td>\n",
              "      <td>0.000000</td>\n",
              "      <td>2.730000</td>\n",
              "      <td>1.000000</td>\n",
              "      <td>8.000000</td>\n",
              "      <td>0.000000</td>\n",
              "      <td>0.000000</td>\n",
              "      <td>0.000000</td>\n",
              "      <td>0.000000e+00</td>\n",
              "      <td>0.000000e+00</td>\n",
              "      <td>0.000000e+00</td>\n",
              "      <td>1.000000</td>\n",
              "      <td>3.483540e+05</td>\n",
              "      <td>6.940700e+05</td>\n",
              "      <td>4.593300e+04</td>\n",
              "      <td>0.000000</td>\n",
              "      <td>0.000000e+00</td>\n",
              "      <td>0.000000e+00</td>\n",
              "      <td>0.000000</td>\n",
              "    </tr>\n",
              "    <tr>\n",
              "      <th>50%</th>\n",
              "      <td>1.000000</td>\n",
              "      <td>28.000000</td>\n",
              "      <td>0.000000</td>\n",
              "      <td>1.000000</td>\n",
              "      <td>4.830000</td>\n",
              "      <td>1.000000</td>\n",
              "      <td>10.000000</td>\n",
              "      <td>2.000000</td>\n",
              "      <td>6.000000</td>\n",
              "      <td>1.000000</td>\n",
              "      <td>8.280560e+05</td>\n",
              "      <td>3.300000e+06</td>\n",
              "      <td>2.000000e+04</td>\n",
              "      <td>1.000000</td>\n",
              "      <td>1.182972e+06</td>\n",
              "      <td>2.569828e+06</td>\n",
              "      <td>1.206130e+05</td>\n",
              "      <td>0.000000</td>\n",
              "      <td>0.000000e+00</td>\n",
              "      <td>0.000000e+00</td>\n",
              "      <td>1.000000</td>\n",
              "    </tr>\n",
              "    <tr>\n",
              "      <th>75%</th>\n",
              "      <td>1.000000</td>\n",
              "      <td>34.000000</td>\n",
              "      <td>0.000000</td>\n",
              "      <td>1.000000</td>\n",
              "      <td>7.630000</td>\n",
              "      <td>1.000000</td>\n",
              "      <td>12.000000</td>\n",
              "      <td>3.000000</td>\n",
              "      <td>24.000000</td>\n",
              "      <td>5.000000</td>\n",
              "      <td>3.493459e+06</td>\n",
              "      <td>1.500260e+07</td>\n",
              "      <td>1.000000e+05</td>\n",
              "      <td>1.000000</td>\n",
              "      <td>4.070040e+06</td>\n",
              "      <td>9.471696e+06</td>\n",
              "      <td>4.834810e+05</td>\n",
              "      <td>0.000000</td>\n",
              "      <td>0.000000e+00</td>\n",
              "      <td>2.869896e+06</td>\n",
              "      <td>1.000000</td>\n",
              "    </tr>\n",
              "    <tr>\n",
              "      <th>max</th>\n",
              "      <td>1.000000</td>\n",
              "      <td>59.000000</td>\n",
              "      <td>1.000000</td>\n",
              "      <td>1.000000</td>\n",
              "      <td>12.100000</td>\n",
              "      <td>2.000000</td>\n",
              "      <td>24.000000</td>\n",
              "      <td>8.000000</td>\n",
              "      <td>4962.000000</td>\n",
              "      <td>712.000000</td>\n",
              "      <td>1.000000e+09</td>\n",
              "      <td>1.000000e+09</td>\n",
              "      <td>1.000000e+09</td>\n",
              "      <td>8.000000</td>\n",
              "      <td>3.857067e+09</td>\n",
              "      <td>2.603122e+10</td>\n",
              "      <td>4.946125e+08</td>\n",
              "      <td>34.000000</td>\n",
              "      <td>1.996132e+10</td>\n",
              "      <td>1.194361e+10</td>\n",
              "      <td>11.000000</td>\n",
              "    </tr>\n",
              "  </tbody>\n",
              "</table>\n",
              "</div>"
            ],
            "text/plain": [
              "         client_sex           age  ...  min_loan_balance         no_dc\n",
              "count  20029.000000  20029.000000  ...      2.002900e+04  20029.000000\n",
              "mean       0.586799     29.820011  ...      1.319525e+08      0.805282\n",
              "std        0.492421      8.050607  ...      4.141967e+08      0.658349\n",
              "min        0.000000     18.000000  ...      0.000000e+00      0.000000\n",
              "25%        0.000000     24.000000  ...      0.000000e+00      0.000000\n",
              "50%        1.000000     28.000000  ...      0.000000e+00      1.000000\n",
              "75%        1.000000     34.000000  ...      2.869896e+06      1.000000\n",
              "max        1.000000     59.000000  ...      1.194361e+10     11.000000\n",
              "\n",
              "[8 rows x 21 columns]"
            ]
          },
          "execution_count": 249,
          "metadata": {
            "tags": []
          },
          "output_type": "execute_result"
        }
      ],
      "source": [
        "X_test.describe()"
      ]
    },
    {
      "cell_type": "code",
      "execution_count": null,
      "metadata": {
        "id": "m78IL25HRKx9"
      },
      "outputs": [],
      "source": [
        "for i in training_data.columns:\n",
        "  sns.distplot(training_data[training_data['churn'] == 0][ i] ,  hist = False, kde = True, rug = True,\n",
        "              color = 'deeppink',\n",
        "              kde_kws={'linewidth': 3},\n",
        "              rug_kws={'color': 'deeppink'},\n",
        "                label = 'non-churner')\n",
        "\n",
        "  sns.distplot(training_data[training_data['churn'] == 1][i] ,  hist = False, kde = True, rug = True,\n",
        "              color = 'blue',\n",
        "              kde_kws={'linewidth': 3},\n",
        "              rug_kws={'color': 'blue'},\n",
        "                label = 'churner')\n",
        "  plt.show()"
      ]
    },
    {
      "cell_type": "markdown",
      "metadata": {
        "id": "2tLQ59a_Qcu2"
      },
      "source": [
        "**Cabliration curve**"
      ]
    },
    {
      "cell_type": "code",
      "execution_count": null,
      "metadata": {
        "colab": {
          "base_uri": "https://localhost:8080/",
          "height": 134
        },
        "id": "NdyWx26UCnEX",
        "outputId": "bf3ec73a-70ea-4e30-e0eb-2ba9895b195c"
      },
      "outputs": [
        {
          "ename": "IndentationError",
          "evalue": "ignored",
          "output_type": "error",
          "traceback": [
            "\u001b[0;36m  File \u001b[0;32m\"<ipython-input-37-17064864dd0f>\"\u001b[0;36m, line \u001b[0;32m4\u001b[0m\n\u001b[0;31m    training_data[training_data['churn'] == 1]['client_sex']\u001b[0m\n\u001b[0m    ^\u001b[0m\n\u001b[0;31mIndentationError\u001b[0m\u001b[0;31m:\u001b[0m unexpected indent\n"
          ]
        }
      ],
      "source": [
        "numeric_features = ['CNT_CHILDREN','AMT_INCOME_TOTAL', 'DAYS_BIRTH','FLAG_PHONE','FLAG_EMAIL', 'DAYS_CREDIT', 'AMT_CREDIT_SUM', 'AMT_CREDIT_SUM_OVERDUE', 'CREDIT_DAY_OVERDUE','CNT_CREDIT_PROLONG']\n",
        "numeric_transformer = Pipeline(steps=[\n",
        "    ('imputer', SimpleImputer(strategy='median')),\n",
        "    ('scaler', MinMaxScaler())])\n",
        "\n",
        "categorical_features = ['CODE_GENDER', 'FLAG_OWN_CAR', 'FLAG_OWN_REALTY','CREDIT_TYPE','NAME_TYPE_SUITE','NAME_INCOME_TYPE','NAME_EDUCATION_TYPE','OCCUPATION_TYPE']\n",
        "categorical_transformer = OneHotEncoder(handle_unknown='ignore')\n",
        "\n",
        "preprocessor = ColumnTransformer(\n",
        "    transformers=[\n",
        "        ('num', numeric_transformer, numeric_features),\n",
        "        ('cat', categorical_transformer, categorical_features)])\n",
        "\n",
        "# Append classifier to preprocessing pipeline.\n",
        "# Now we have a full prediction pipeline.\n",
        "GradientBoosting = GradientBoostingClassifier(n_estimators=250,\n",
        "                                              max_depth=3,\n",
        "                                              min_samples_split=150,\n",
        "                                              min_samples_leaf=80,\n",
        "                                                  max_features=0.8\n",
        ")\n",
        "\n",
        "clf_gb1 = Pipeline(steps=[('preprocessor', preprocessor),\n",
        "                      ('calibrated', CalibratedClassifierCV(GradientBoosting, cv = 5, method = 'isotonic'\n",
        "                                                            ))])\n",
        "\n",
        "X_train, X_test, y_train, y_test = train_test_split(data.drop(columns='TARGET'),data[('TARGET')] , test_size=0.2,\n",
        "                                                    random_state=0)\n",
        "\n",
        "clf_gb1.fit(X_train, y_train)\n",
        "auc_gb1 = roc_auc_score(y_test, clf_gb1.predict_proba(X_test)[:, 1]) * 100\n",
        "print(f\"AUC score:{auc_gb1}\")\n",
        "\n",
        "y_predict_gb1 = clf_gb1.predict_proba(X_test)[:, 1]\n",
        "fpr5 , tpr5, thresholds5 = roc_curve(y_test, y_predict_gb1)\n",
        "\n",
        "print(classification_report(y_test, clf_gb1.predict(X_test)))\n",
        "\n",
        "plot_confusion_matrix(clf_gb1, X_test, y_test,\n",
        "                                 cmap=plt.cm.Blues, xticks_rotation='vertical')\n",
        "plt.grid(False)\n",
        "plt.ylabel('Giá trị thực tế')\n",
        "plt.xlabel('Giá trị dự đoán')\n",
        "\n",
        "y_predicted = clf_gb1.predict_proba(X_test)[:, 1]\n",
        "prob_true, prob_predicted = calibration_curve(y_true=y_test, y_prob=y_predicted, n_bins=10, normalize=True)\n",
        "plt.figure(figsize=(10, 6))\n",
        "plt.plot(prob_predicted, prob_true, '-o')\n",
        "plt.plot([0, 1], [0, 1], '--')\n",
        "plt.xlabel('Xác suất dự đoán trung bình')\n",
        "plt.ylabel('Xác suất giá trị thực tế trung bình')\n",
        "plt.title('Đường Hiệu chuẩn')\n",
        "plt.show()"
      ]
    },
    {
      "cell_type": "code",
      "execution_count": null,
      "metadata": {
        "colab": {
          "base_uri": "https://localhost:8080/",
          "height": 844
        },
        "id": "kZFmXdPxyh2X",
        "outputId": "384d21ef-9887-4cb8-b7f8-617bed395f7d"
      },
      "outputs": [
        {
          "name": "stdout",
          "output_type": "stream",
          "text": [
            "AUC score:86.18562443158494\n",
            "              precision    recall  f1-score   support\n",
            "\n",
            "           0       0.82      0.88      0.85     12908\n",
            "           1       0.74      0.65      0.69      7121\n",
            "\n",
            "    accuracy                           0.80     20029\n",
            "   macro avg       0.78      0.76      0.77     20029\n",
            "weighted avg       0.79      0.80      0.79     20029\n",
            "\n"
          ]
        },
        {
          "data": {
            "image/png": "[encoded data removed]",
            "text/plain": [
              "<Figure size 432x288 with 2 Axes>"
            ]
          },
          "metadata": {
            "tags": []
          },
          "output_type": "display_data"
        },
        {
          "data": {
            "image/png": "[encoded data removed]",
            "text/plain": [
              "<Figure size 720x432 with 1 Axes>"
            ]
          },
          "metadata": {
            "tags": []
          },
          "output_type": "display_data"
        }
      ],
      "source": [
        "from sklearn.impute import SimpleImputer\n",
        "from sklearn.preprocessing import MinMaxScaler, OneHotEncoder\n",
        "from sklearn.compose import ColumnTransformer\n",
        "from sklearn.pipeline import Pipeline\n",
        "from sklearn.calibration import CalibratedClassifierCV, calibration_curve\n",
        "\n",
        "\n",
        "\n",
        "numeric_features = num_cols\n",
        "numeric_transformer = Pipeline(steps=[\n",
        "    ('imputer', SimpleImputer(strategy='median')),\n",
        "    ('scaler', MinMaxScaler())])\n",
        "\n",
        "categorical_features =cat_cols\n",
        "categorical_transformer = OneHotEncoder(handle_unknown='ignore')\n",
        "\n",
        "preprocessor = ColumnTransformer(\n",
        "    transformers=[\n",
        "        ('num', numeric_transformer, numeric_features),\n",
        "        ('cat', categorical_transformer, categorical_features)])\n",
        "\n",
        "# Append classifier to preprocessing pipeline.\n",
        "# Now we have a full prediction pipeline.\n",
        "GradientBoosting = GradientBoostingClassifier(n_estimators=250,\n",
        "                                              max_depth=3,\n",
        "                                              min_samples_split=150,\n",
        "                                              min_samples_leaf=80,\n",
        "                                                  max_features=0.8\n",
        ")\n",
        "\n",
        "clf_gb1 = Pipeline(steps=[('preprocessor', preprocessor),\n",
        "                      ('calibrated', CalibratedClassifierCV(GradientBoosting, cv = 5, method = 'isotonic'\n",
        "                                                            ))])\n",
        "\n",
        "clf_gb1.fit(X_train, y_train)\n",
        "auc_gb1 = roc_auc_score(y_test, clf_gb1.predict_proba(X_test)[:, 1]) * 100\n",
        "print(f\"AUC score:{auc_gb1}\")\n",
        "\n",
        "y_predict_gb1 = clf_gb1.predict_proba(X_test)[:, 1]\n",
        "fpr5 , tpr5, thresholds5 = roc_curve(y_test, y_predict_gb1)\n",
        "\n",
        "print(classification_report(y_test, clf_gb1.predict(X_test)))\n",
        "\n",
        "plot_confusion_matrix(clf_gb1, X_test, y_test,\n",
        "                                 cmap=plt.cm.Blues, xticks_rotation='vertical')\n",
        "plt.grid(False)\n",
        "plt.ylabel('Giá trị thực tế')\n",
        "plt.xlabel('Giá trị dự đoán')\n",
        "\n",
        "y_predicted = XGMod.predict_proba(X_test)[:, 1]\n",
        "prob_true, prob_predicted = calibration_curve(y_true=y_test, y_prob=y_predicted, n_bins=10, normalize=True)\n",
        "plt.figure(figsize=(10, 6))\n",
        "plt.plot(prob_predicted, prob_true, '-o')\n",
        "plt.plot([0, 1], [0, 1], '--')\n",
        "plt.xlabel('Xác suất dự đoán trung bình')\n",
        "plt.ylabel('Xác suất giá trị thực tế trung bình')\n",
        "plt.title('Đường Hiệu chuẩn')\n",
        "plt.show()"
      ]
    },
    {
      "cell_type": "code",
      "execution_count": null,
      "metadata": {
        "colab": {
          "base_uri": "https://localhost:8080/",
          "height": 406
        },
        "id": "CYC7PMOm28g5",
        "outputId": "d265745b-d5fc-44bc-83e5-cf422ef97975"
      },
      "outputs": [
        {
          "data": {
            "image/png": "[encoded data removed]",
            "text/plain": [
              "<Figure size 720x432 with 1 Axes>"
            ]
          },
          "metadata": {
            "tags": []
          },
          "output_type": "display_data"
        }
      ],
      "source": [
        "y_predicted = rfMod.predict_proba(X_test)[:, 1]\n",
        "prob_true, prob_predicted = calibration_curve(y_true=y_test, y_prob=y_predicted, n_bins=10, normalize=True)\n",
        "plt.figure(figsize=(10, 6))\n",
        "plt.plot(prob_predicted, prob_true, '-o')\n",
        "plt.plot([0, 1], [0, 1], '--')\n",
        "plt.xlabel('Xác suất dự đoán trung bình')\n",
        "plt.ylabel('Xác suất giá trị thực tế trung bình')\n",
        "plt.title('Đường Hiệu chuẩn')\n",
        "plt.show()"
      ]
    },
    {
      "cell_type": "markdown",
      "metadata": {
        "id": "GobbqUp8Qo8i"
      },
      "source": [
        "**Decision tree - Extract rule**"
      ]
    },
    {
      "cell_type": "code",
      "execution_count": null,
      "metadata": {
        "colab": {
          "base_uri": "https://localhost:8080/",
          "height": 225
        },
        "id": "bewCZqiD7rws",
        "outputId": "bc582b6a-2e6f-43c3-9394-bd07bfe90cca"
      },
      "outputs": [
        {
          "data": {
            "text/html": [
              "<div>\n",
              "<style scoped>\n",
              "    .dataframe tbody tr th:only-of-type {\n",
              "        vertical-align: middle;\n",
              "    }\n",
              "\n",
              "    .dataframe tbody tr th {\n",
              "        vertical-align: top;\n",
              "    }\n",
              "\n",
              "    .dataframe thead th {\n",
              "        text-align: right;\n",
              "    }\n",
              "</style>\n",
              "<table border=\"1\" class=\"dataframe\">\n",
              "  <thead>\n",
              "    <tr style=\"text-align: right;\">\n",
              "      <th></th>\n",
              "      <th>client_sex</th>\n",
              "      <th>age</th>\n",
              "      <th>staff_vib</th>\n",
              "      <th>sms</th>\n",
              "      <th>verify_method</th>\n",
              "      <th>tenure</th>\n",
              "      <th>eb_register_channel</th>\n",
              "      <th>no.activity_name</th>\n",
              "      <th>type_trans_lv2</th>\n",
              "      <th>total_trans_no</th>\n",
              "      <th>avg_trans_no/month</th>\n",
              "      <th>avg_trans_amount</th>\n",
              "      <th>max_trans_amount</th>\n",
              "      <th>min_trans_amount</th>\n",
              "      <th>no_currentaccount</th>\n",
              "      <th>avg_currentaccount_balance</th>\n",
              "      <th>max_currentaccount_balance</th>\n",
              "      <th>min_currentaccount_balance</th>\n",
              "      <th>no_termdeposite</th>\n",
              "      <th>avg_termdeposite_balance</th>\n",
              "      <th>max_termdeposite_balance</th>\n",
              "      <th>min_termdeposite_balance</th>\n",
              "      <th>no_loan</th>\n",
              "      <th>avg_loan_balance</th>\n",
              "      <th>max_loan_balance</th>\n",
              "      <th>min_loan_balance</th>\n",
              "      <th>no_cc</th>\n",
              "      <th>no_dc</th>\n",
              "      <th>churn</th>\n",
              "    </tr>\n",
              "  </thead>\n",
              "  <tbody>\n",
              "    <tr>\n",
              "      <th>0</th>\n",
              "      <td>1</td>\n",
              "      <td>23</td>\n",
              "      <td>0</td>\n",
              "      <td>1</td>\n",
              "      <td>1</td>\n",
              "      <td>1.73</td>\n",
              "      <td>1</td>\n",
              "      <td>10</td>\n",
              "      <td>3</td>\n",
              "      <td>38</td>\n",
              "      <td>22</td>\n",
              "      <td>956500</td>\n",
              "      <td>17833000</td>\n",
              "      <td>2000</td>\n",
              "      <td>1</td>\n",
              "      <td>8302778</td>\n",
              "      <td>10689640</td>\n",
              "      <td>5915917</td>\n",
              "      <td>0</td>\n",
              "      <td>0.0</td>\n",
              "      <td>0.000000e+00</td>\n",
              "      <td>0.0</td>\n",
              "      <td>0</td>\n",
              "      <td>0</td>\n",
              "      <td>0</td>\n",
              "      <td>0</td>\n",
              "      <td>0</td>\n",
              "      <td>1</td>\n",
              "      <td>0</td>\n",
              "    </tr>\n",
              "    <tr>\n",
              "      <th>1</th>\n",
              "      <td>0</td>\n",
              "      <td>42</td>\n",
              "      <td>0</td>\n",
              "      <td>1</td>\n",
              "      <td>2</td>\n",
              "      <td>9.60</td>\n",
              "      <td>1</td>\n",
              "      <td>10</td>\n",
              "      <td>4</td>\n",
              "      <td>52</td>\n",
              "      <td>5</td>\n",
              "      <td>1059833</td>\n",
              "      <td>5000000</td>\n",
              "      <td>10000</td>\n",
              "      <td>1</td>\n",
              "      <td>460311</td>\n",
              "      <td>727781</td>\n",
              "      <td>215126</td>\n",
              "      <td>0</td>\n",
              "      <td>0.0</td>\n",
              "      <td>0.000000e+00</td>\n",
              "      <td>0.0</td>\n",
              "      <td>0</td>\n",
              "      <td>0</td>\n",
              "      <td>0</td>\n",
              "      <td>0</td>\n",
              "      <td>0</td>\n",
              "      <td>1</td>\n",
              "      <td>0</td>\n",
              "    </tr>\n",
              "    <tr>\n",
              "      <th>2</th>\n",
              "      <td>1</td>\n",
              "      <td>25</td>\n",
              "      <td>0</td>\n",
              "      <td>1</td>\n",
              "      <td>1</td>\n",
              "      <td>4.67</td>\n",
              "      <td>1</td>\n",
              "      <td>13</td>\n",
              "      <td>1</td>\n",
              "      <td>2</td>\n",
              "      <td>0</td>\n",
              "      <td>850000</td>\n",
              "      <td>1600000</td>\n",
              "      <td>100000</td>\n",
              "      <td>1</td>\n",
              "      <td>136479</td>\n",
              "      <td>208633</td>\n",
              "      <td>91581</td>\n",
              "      <td>0</td>\n",
              "      <td>0.0</td>\n",
              "      <td>0.000000e+00</td>\n",
              "      <td>0.0</td>\n",
              "      <td>0</td>\n",
              "      <td>0</td>\n",
              "      <td>0</td>\n",
              "      <td>0</td>\n",
              "      <td>0</td>\n",
              "      <td>1</td>\n",
              "      <td>0</td>\n",
              "    </tr>\n",
              "    <tr>\n",
              "      <th>3</th>\n",
              "      <td>0</td>\n",
              "      <td>22</td>\n",
              "      <td>0</td>\n",
              "      <td>0</td>\n",
              "      <td>2</td>\n",
              "      <td>10.73</td>\n",
              "      <td>1</td>\n",
              "      <td>10</td>\n",
              "      <td>1</td>\n",
              "      <td>2</td>\n",
              "      <td>0</td>\n",
              "      <td>1225000</td>\n",
              "      <td>2300000</td>\n",
              "      <td>150000</td>\n",
              "      <td>1</td>\n",
              "      <td>484063</td>\n",
              "      <td>1854536</td>\n",
              "      <td>75857</td>\n",
              "      <td>3</td>\n",
              "      <td>346355068.0</td>\n",
              "      <td>1.270000e+09</td>\n",
              "      <td>0.0</td>\n",
              "      <td>0</td>\n",
              "      <td>0</td>\n",
              "      <td>0</td>\n",
              "      <td>0</td>\n",
              "      <td>0</td>\n",
              "      <td>0</td>\n",
              "      <td>0</td>\n",
              "    </tr>\n",
              "    <tr>\n",
              "      <th>4</th>\n",
              "      <td>1</td>\n",
              "      <td>33</td>\n",
              "      <td>0</td>\n",
              "      <td>1</td>\n",
              "      <td>1</td>\n",
              "      <td>8.60</td>\n",
              "      <td>1</td>\n",
              "      <td>14</td>\n",
              "      <td>4</td>\n",
              "      <td>95</td>\n",
              "      <td>11</td>\n",
              "      <td>48167680</td>\n",
              "      <td>257000000</td>\n",
              "      <td>50000</td>\n",
              "      <td>2</td>\n",
              "      <td>64904641</td>\n",
              "      <td>186657240</td>\n",
              "      <td>65267</td>\n",
              "      <td>0</td>\n",
              "      <td>0.0</td>\n",
              "      <td>0.000000e+00</td>\n",
              "      <td>0.0</td>\n",
              "      <td>0</td>\n",
              "      <td>0</td>\n",
              "      <td>0</td>\n",
              "      <td>0</td>\n",
              "      <td>0</td>\n",
              "      <td>2</td>\n",
              "      <td>1</td>\n",
              "    </tr>\n",
              "  </tbody>\n",
              "</table>\n",
              "</div>"
            ],
            "text/plain": [
              "   client_sex  age  staff_vib  sms  ...  min_loan_balance  no_cc  no_dc  churn\n",
              "0           1   23          0    1  ...                 0      0      1      0\n",
              "1           0   42          0    1  ...                 0      0      1      0\n",
              "2           1   25          0    1  ...                 0      0      1      0\n",
              "3           0   22          0    0  ...                 0      0      0      0\n",
              "4           1   33          0    1  ...                 0      0      2      1\n",
              "\n",
              "[5 rows x 29 columns]"
            ]
          },
          "execution_count": 14,
          "metadata": {
            "tags": []
          },
          "output_type": "execute_result"
        }
      ],
      "source": [
        "training_data.head()"
      ]
    },
    {
      "cell_type": "code",
      "execution_count": null,
      "metadata": {
        "id": "7NqlZP-8B2fw"
      },
      "outputs": [],
      "source": [
        "from sklearn.tree import DecisionTreeClassifier\n",
        "from sklearn import tree"
      ]
    },
    {
      "cell_type": "code",
      "execution_count": null,
      "metadata": {
        "id": "Mf_iycrImNDt"
      },
      "outputs": [],
      "source": [
        "clf = DecisionTreeClassifier(max_depth=5, random_state=1234)\n",
        "model = clf.fit(X_train, y_train)"
      ]
    },
    {
      "cell_type": "code",
      "execution_count": null,
      "metadata": {
        "colab": {
          "base_uri": "https://localhost:8080/"
        },
        "id": "7PmVhqvMoKky",
        "outputId": "25b9c5c9-6a66-40de-cf21-fa7d83ae9f5f"
      },
      "outputs": [
        {
          "data": {
            "text/plain": [
              "0.7919516700783863"
            ]
          },
          "execution_count": 54,
          "metadata": {
            "tags": []
          },
          "output_type": "execute_result"
        }
      ],
      "source": [
        "# Compute the model accuracy on the given test data and labels\n",
        "DT_acc = clf.score(X_test, y_test)\n",
        "# Return probability estimates for the test data\n",
        "test_labels = clf.predict_proba(np.array(X_test.values))[:,1]\n",
        "y_true = y_test\n",
        "y_pred =  clf.predict(np.array(X_test.values))\n",
        "# Compute Area Under the Receiver Operating Characteristic Curve (ROC AUC) from prediction scores\n",
        "DT_roc_auc = roc_auc_score(y_test, test_labels , average = 'macro')\n",
        "DT_recall = recall_score(y_true, y_pred )\n",
        "DT_precision = precision_score(y_true, y_pred )\n",
        "#DT_f1_score = f1_score(y_true, y_pred )\n",
        "\n",
        "DT_acc"
      ]
    },
    {
      "cell_type": "code",
      "execution_count": null,
      "metadata": {
        "id": "wItY2mmwmuto"
      },
      "outputs": [],
      "source": [
        "# get the text representation\n",
        "text_representation = tree.export_text(clf)\n",
        "print(text_representation)"
      ]
    },
    {
      "cell_type": "code",
      "execution_count": null,
      "metadata": {
        "id": "WmYFL0g5ouDz"
      },
      "outputs": [],
      "source": []
    },
    {
      "cell_type": "code",
      "execution_count": null,
      "metadata": {
        "colab": {
          "base_uri": "https://localhost:8080/",
          "height": 225
        },
        "id": "QSAm-ShomxTy",
        "outputId": "a71663c5-6b02-45c6-e991-a440241a3918"
      },
      "outputs": [
        {
          "data": {
            "text/html": [
              "<div>\n",
              "<style scoped>\n",
              "    .dataframe tbody tr th:only-of-type {\n",
              "        vertical-align: middle;\n",
              "    }\n",
              "\n",
              "    .dataframe tbody tr th {\n",
              "        vertical-align: top;\n",
              "    }\n",
              "\n",
              "    .dataframe thead th {\n",
              "        text-align: right;\n",
              "    }\n",
              "</style>\n",
              "<table border=\"1\" class=\"dataframe\">\n",
              "  <thead>\n",
              "    <tr style=\"text-align: right;\">\n",
              "      <th></th>\n",
              "      <th>client_sex</th>\n",
              "      <th>age</th>\n",
              "      <th>staff_vib</th>\n",
              "      <th>sms</th>\n",
              "      <th>verify_method</th>\n",
              "      <th>tenure</th>\n",
              "      <th>eb_register_channel</th>\n",
              "      <th>no.activity_name</th>\n",
              "      <th>type_trans_lv2</th>\n",
              "      <th>total_trans_no</th>\n",
              "      <th>avg_trans_no/month</th>\n",
              "      <th>avg_trans_amount</th>\n",
              "      <th>max_trans_amount</th>\n",
              "      <th>min_trans_amount</th>\n",
              "      <th>no_currentaccount</th>\n",
              "      <th>avg_currentaccount_balance</th>\n",
              "      <th>max_currentaccount_balance</th>\n",
              "      <th>min_currentaccount_balance</th>\n",
              "      <th>no_termdeposite</th>\n",
              "      <th>avg_termdeposite_balance</th>\n",
              "      <th>max_termdeposite_balance</th>\n",
              "      <th>min_termdeposite_balance</th>\n",
              "      <th>no_loan</th>\n",
              "      <th>avg_loan_balance</th>\n",
              "      <th>max_loan_balance</th>\n",
              "      <th>min_loan_balance</th>\n",
              "      <th>no_cc</th>\n",
              "      <th>no_dc</th>\n",
              "    </tr>\n",
              "  </thead>\n",
              "  <tbody>\n",
              "    <tr>\n",
              "      <th>0</th>\n",
              "      <td>1</td>\n",
              "      <td>23</td>\n",
              "      <td>0</td>\n",
              "      <td>1</td>\n",
              "      <td>1</td>\n",
              "      <td>1.73</td>\n",
              "      <td>1</td>\n",
              "      <td>10</td>\n",
              "      <td>3</td>\n",
              "      <td>38</td>\n",
              "      <td>22</td>\n",
              "      <td>956500</td>\n",
              "      <td>17833000</td>\n",
              "      <td>2000</td>\n",
              "      <td>1</td>\n",
              "      <td>8302778</td>\n",
              "      <td>10689640</td>\n",
              "      <td>5915917</td>\n",
              "      <td>0</td>\n",
              "      <td>0.0</td>\n",
              "      <td>0.000000e+00</td>\n",
              "      <td>0.0</td>\n",
              "      <td>0</td>\n",
              "      <td>0</td>\n",
              "      <td>0</td>\n",
              "      <td>0</td>\n",
              "      <td>0</td>\n",
              "      <td>1</td>\n",
              "    </tr>\n",
              "    <tr>\n",
              "      <th>1</th>\n",
              "      <td>0</td>\n",
              "      <td>42</td>\n",
              "      <td>0</td>\n",
              "      <td>1</td>\n",
              "      <td>2</td>\n",
              "      <td>9.60</td>\n",
              "      <td>1</td>\n",
              "      <td>10</td>\n",
              "      <td>4</td>\n",
              "      <td>52</td>\n",
              "      <td>5</td>\n",
              "      <td>1059833</td>\n",
              "      <td>5000000</td>\n",
              "      <td>10000</td>\n",
              "      <td>1</td>\n",
              "      <td>460311</td>\n",
              "      <td>727781</td>\n",
              "      <td>215126</td>\n",
              "      <td>0</td>\n",
              "      <td>0.0</td>\n",
              "      <td>0.000000e+00</td>\n",
              "      <td>0.0</td>\n",
              "      <td>0</td>\n",
              "      <td>0</td>\n",
              "      <td>0</td>\n",
              "      <td>0</td>\n",
              "      <td>0</td>\n",
              "      <td>1</td>\n",
              "    </tr>\n",
              "    <tr>\n",
              "      <th>2</th>\n",
              "      <td>1</td>\n",
              "      <td>25</td>\n",
              "      <td>0</td>\n",
              "      <td>1</td>\n",
              "      <td>1</td>\n",
              "      <td>4.67</td>\n",
              "      <td>1</td>\n",
              "      <td>13</td>\n",
              "      <td>1</td>\n",
              "      <td>2</td>\n",
              "      <td>0</td>\n",
              "      <td>850000</td>\n",
              "      <td>1600000</td>\n",
              "      <td>100000</td>\n",
              "      <td>1</td>\n",
              "      <td>136479</td>\n",
              "      <td>208633</td>\n",
              "      <td>91581</td>\n",
              "      <td>0</td>\n",
              "      <td>0.0</td>\n",
              "      <td>0.000000e+00</td>\n",
              "      <td>0.0</td>\n",
              "      <td>0</td>\n",
              "      <td>0</td>\n",
              "      <td>0</td>\n",
              "      <td>0</td>\n",
              "      <td>0</td>\n",
              "      <td>1</td>\n",
              "    </tr>\n",
              "    <tr>\n",
              "      <th>3</th>\n",
              "      <td>0</td>\n",
              "      <td>22</td>\n",
              "      <td>0</td>\n",
              "      <td>0</td>\n",
              "      <td>2</td>\n",
              "      <td>10.73</td>\n",
              "      <td>1</td>\n",
              "      <td>10</td>\n",
              "      <td>1</td>\n",
              "      <td>2</td>\n",
              "      <td>0</td>\n",
              "      <td>1225000</td>\n",
              "      <td>2300000</td>\n",
              "      <td>150000</td>\n",
              "      <td>1</td>\n",
              "      <td>484063</td>\n",
              "      <td>1854536</td>\n",
              "      <td>75857</td>\n",
              "      <td>3</td>\n",
              "      <td>346355068.0</td>\n",
              "      <td>1.270000e+09</td>\n",
              "      <td>0.0</td>\n",
              "      <td>0</td>\n",
              "      <td>0</td>\n",
              "      <td>0</td>\n",
              "      <td>0</td>\n",
              "      <td>0</td>\n",
              "      <td>0</td>\n",
              "    </tr>\n",
              "    <tr>\n",
              "      <th>4</th>\n",
              "      <td>1</td>\n",
              "      <td>33</td>\n",
              "      <td>0</td>\n",
              "      <td>1</td>\n",
              "      <td>1</td>\n",
              "      <td>8.60</td>\n",
              "      <td>1</td>\n",
              "      <td>14</td>\n",
              "      <td>4</td>\n",
              "      <td>95</td>\n",
              "      <td>11</td>\n",
              "      <td>48167680</td>\n",
              "      <td>257000000</td>\n",
              "      <td>50000</td>\n",
              "      <td>2</td>\n",
              "      <td>64904641</td>\n",
              "      <td>186657240</td>\n",
              "      <td>65267</td>\n",
              "      <td>0</td>\n",
              "      <td>0.0</td>\n",
              "      <td>0.000000e+00</td>\n",
              "      <td>0.0</td>\n",
              "      <td>0</td>\n",
              "      <td>0</td>\n",
              "      <td>0</td>\n",
              "      <td>0</td>\n",
              "      <td>0</td>\n",
              "      <td>2</td>\n",
              "    </tr>\n",
              "  </tbody>\n",
              "</table>\n",
              "</div>"
            ],
            "text/plain": [
              "   client_sex  age  staff_vib  ...  min_loan_balance  no_cc  no_dc\n",
              "0           1   23          0  ...                 0      0      1\n",
              "1           0   42          0  ...                 0      0      1\n",
              "2           1   25          0  ...                 0      0      1\n",
              "3           0   22          0  ...                 0      0      0\n",
              "4           1   33          0  ...                 0      0      2\n",
              "\n",
              "[5 rows x 28 columns]"
            ]
          },
          "execution_count": 27,
          "metadata": {
            "tags": []
          },
          "output_type": "execute_result"
        }
      ],
      "source": [
        "X.head(5)"
      ]
    },
    {
      "cell_type": "code",
      "execution_count": null,
      "metadata": {
        "id": "QLrJgPqim4Dd"
      },
      "outputs": [],
      "source": [
        "text_representation = tree.export_text(clf, feature_names=X_test.columns.to_list())\n",
        "print(text_representation)\n"
      ]
    },
    {
      "cell_type": "code",
      "execution_count": null,
      "metadata": {
        "id": "ryEKZf5pq9Gl"
      },
      "outputs": [],
      "source": [
        "from sklearn.tree import _tree\n",
        "\n",
        "def tree_to_code(tree, feature_names):\n",
        "    tree_ = tree.tree_\n",
        "    feature_name = [\n",
        "        feature_names[i] if i != _tree.TREE_UNDEFINED else \"undefined!\"\n",
        "        for i in tree_.feature\n",
        "    ]\n",
        "    feature_names = [f.replace(\" \", \"_\")[:-5] for f in feature_names]\n",
        "    print(\"def predict({}):\".format(\", \".join(feature_names)))\n",
        "\n",
        "    def recurse(node, depth):\n",
        "        indent = \"    \" * depth\n",
        "        if tree_.feature[node] != _tree.TREE_UNDEFINED:\n",
        "            name = feature_name[node]\n",
        "            threshold = tree_.threshold[node]\n",
        "            print(\"{}if {} <= {}:\".format(indent, name, np.round(threshold,2)))\n",
        "            recurse(tree_.children_left[node], depth + 1)\n",
        "            print(\"{}else:  # if {} > {}\".format(indent, name, np.round(threshold,2)))\n",
        "            recurse(tree_.children_right[node], depth + 1)\n",
        "        else:\n",
        "            print(\"{}return {}\".format(indent, tree_.value[node]))\n",
        "\n",
        "    recurse(0, 1)"
      ]
    },
    {
      "cell_type": "code",
      "execution_count": null,
      "metadata": {
        "id": "LB7bYPm0GDdj"
      },
      "outputs": [],
      "source": []
    },
    {
      "cell_type": "code",
      "execution_count": null,
      "metadata": {
        "id": "G-bOBuV1q5jW"
      },
      "outputs": [],
      "source": [
        "fig = plt.figure(figsize=(40, 30))\n",
        "_ = tree.plot_tree(clf,\n",
        "                   feature_names=X_test.columns.to_list(),\n",
        "                   class_names=clf.classes_.astype(int).astype(str),\n",
        "                   filled=True, )\n",
        "fig.savefig('DT.png')\n"
      ]
    },
    {
      "cell_type": "code",
      "execution_count": null,
      "metadata": {
        "id": "o7y-x3Ck2f3j"
      },
      "outputs": [],
      "source": [
        "def predict(tenure,avg_trans_no_month, no_activity_name,total_trans_no):\n",
        "  if tenure <= 6.415:\n",
        "    if avg_trans_no_month <= 1.5:\n",
        "      if tenure <= 3.215:\n",
        "        return [[9289,1503]]\n",
        "      else:\n",
        "          return [[7664, 4495]]\n",
        "    else:\n",
        "        if tenure <= 3.45:\n",
        "        return [[10241, 373]]\n",
        "      else:\n",
        "        return [[8261, 1130]]\n",
        "  else:\n",
        "    if avg_trans_no_month <=11.5:\n",
        "      if no_activity_name <= 7.5:\n",
        "        return [[1532, 1646]]\n",
        "      else:\n",
        "        return [[4459, 13508]]\n",
        "    else:\n",
        "     if total_trans_no <= 190.5:\n",
        "      return [[946, 857]]\n",
        "     else:\n",
        "      return [[611, 248]]"
      ]
    },
    {
      "cell_type": "code",
      "execution_count": null,
      "metadata": {
        "id": "lmgl4O9iDA4U"
      },
      "outputs": [],
      "source": [
        "def get_rules(tree, feature_names, class_names):\n",
        "    tree_ = tree.tree_\n",
        "    feature_name = [\n",
        "        feature_names[i] if i != _tree.TREE_UNDEFINED else \"undefined!\"\n",
        "        for i in tree_.feature\n",
        "    ]\n",
        "\n",
        "    paths = []\n",
        "    path = []\n",
        "\n",
        "    def recurse(node, path, paths):\n",
        "\n",
        "        if tree_.feature[node] != _tree.TREE_UNDEFINED:\n",
        "            name = feature_name[node]\n",
        "            threshold = tree_.threshold[node]\n",
        "            p1, p2 = list(path), list(path)\n",
        "            p1 += [f\"({name} <= {np.round(threshold, 3)})\"]\n",
        "            recurse(tree_.children_left[node], p1, paths)\n",
        "            p2 += [f\"({name} > {np.round(threshold, 3)})\"]\n",
        "            recurse(tree_.children_right[node], p2, paths)\n",
        "        else:\n",
        "            path += [(tree_.value[node], tree_.n_node_samples[node])]\n",
        "            paths += [path]\n",
        "\n",
        "    recurse(0, path, paths)\n",
        "\n",
        "    # sort by samples count\n",
        "    samples_count = [p[-1][1] for p in paths]\n",
        "    ii = list(np.argsort(samples_count))\n",
        "    paths = [paths[i] for i in reversed(ii)]\n",
        "\n",
        "    rules = []\n",
        "    for path in paths:\n",
        "        rule = \"if \"\n",
        "\n",
        "        for p in path[:-1]:\n",
        "            if rule != \"if \":\n",
        "                rule += \" and \"\n",
        "            rule += str(p)\n",
        "        rule += \" then \"\n",
        "        if class_names is None:\n",
        "            rule += \"response: \"+str(np.round(path[-1][0][0][0],3))\n",
        "        else:\n",
        "            classes = path[-1][0][0]\n",
        "            l = np.argmax(classes)\n",
        "            rule += f\"class: {class_names[l]} (proba: {np.round(100.0*classes[l]/np.sum(classes),2)}%)\"\n",
        "        rule += f\" | based on {path[-1][1]:,} samples\"\n",
        "        rules += [rule]\n",
        "\n",
        "    return rules"
      ]
    },
    {
      "cell_type": "code",
      "execution_count": null,
      "metadata": {
        "id": "-IeXloj-DG5w"
      },
      "outputs": [],
      "source": [
        "rules = get_rules(clf, X.columns.to_list() , clf_.classes_.astype(int).astype(str) )\n",
        "for r in rules:\n",
        "    print(r)"
      ]
    },
    {
      "cell_type": "code",
      "execution_count": null,
      "metadata": {
        "id": "KxY1-z1_65Yb"
      },
      "outputs": [],
      "source": [
        "eval_set = [(X_test, y_test)]\n",
        "XGMod.fit(X_train, y_train, early_stopping_rounds=10, eval_metric=\"logloss\", eval_set=eval_set, verbose=True)"
      ]
    },
    {
      "cell_type": "code",
      "execution_count": null,
      "metadata": {
        "colab": {
          "base_uri": "https://localhost:8080/",
          "height": 182
        },
        "id": "ivzcgCnUz3xz",
        "outputId": "0d3b720e-cbc2-4abc-e0a8-04be653b538c"
      },
      "outputs": [
        {
          "ename": "TypeError",
          "evalue": "ignored",
          "output_type": "error",
          "traceback": [
            "\u001b[0;31m---------------------------------------------------------------------------\u001b[0m",
            "\u001b[0;31mTypeError\u001b[0m                                 Traceback (most recent call last)",
            "\u001b[0;32m<ipython-input-43-47441175bef0>\u001b[0m in \u001b[0;36m<module>\u001b[0;34m()\u001b[0m\n\u001b[1;32m      1\u001b[0m \u001b[0meval_set\u001b[0m \u001b[0;34m=\u001b[0m \u001b[0;34m[\u001b[0m\u001b[0;34m(\u001b[0m\u001b[0mX_test\u001b[0m\u001b[0;34m,\u001b[0m \u001b[0my_test\u001b[0m\u001b[0;34m)\u001b[0m\u001b[0;34m]\u001b[0m\u001b[0;34m\u001b[0m\u001b[0;34m\u001b[0m\u001b[0m\n\u001b[0;32m----> 2\u001b[0;31m \u001b[0mgbMod\u001b[0m\u001b[0;34m.\u001b[0m\u001b[0mfit\u001b[0m\u001b[0;34m(\u001b[0m\u001b[0mX_train\u001b[0m\u001b[0;34m,\u001b[0m \u001b[0my_train\u001b[0m\u001b[0;34m,\u001b[0m \u001b[0meval_metric\u001b[0m\u001b[0;34m=\u001b[0m\u001b[0;34m\"logloss\"\u001b[0m\u001b[0;34m,\u001b[0m \u001b[0meval_set\u001b[0m\u001b[0;34m=\u001b[0m\u001b[0meval_set\u001b[0m\u001b[0;34m,\u001b[0m \u001b[0mverbose\u001b[0m\u001b[0;34m=\u001b[0m\u001b[0;32mTrue\u001b[0m\u001b[0;34m)\u001b[0m\u001b[0;34m\u001b[0m\u001b[0;34m\u001b[0m\u001b[0m\n\u001b[0m",
            "\u001b[0;31mTypeError\u001b[0m: fit() got an unexpected keyword argument 'eval_metric'"
          ]
        }
      ],
      "source": [
        "eval_set = [(X_test, y_test)]\n",
        "gbMod.fit(X_train, y_train, eval_metric=\"logloss\", eval_set=eval_set, verbose=True)"
      ]
    },
    {
      "cell_type": "code",
      "execution_count": null,
      "metadata": {
        "colab": {
          "base_uri": "https://localhost:8080/"
        },
        "id": "-MzlD9QT7WP_",
        "outputId": "db049182-e8ef-40eb-b708-771df98c6ac8"
      },
      "outputs": [
        {
          "output_type": "execute_result",
          "data": {
            "text/plain": [
              "XGBClassifier(colsample_bytree=0.8, gamma=0.1, max_depth=4, min_child_weight=6,\n",
              "              n_estimators=177, nthread=4, seed=27, subsample=0.8)"
            ]
          },
          "metadata": {},
          "execution_count": 34
        }
      ],
      "source": [
        "XGMod_1 = XGBClassifier(colsample_bytree=0.8, gamma=0.1, max_depth=4, min_child_weight=6,\n",
        "              n_estimators=177, nthread=4, seed=27, subsample=0.8)\n",
        "XGMod_1.fit(X_train, y_train)"
      ]
    },
    {
      "cell_type": "code",
      "execution_count": null,
      "metadata": {
        "colab": {
          "base_uri": "https://localhost:8080/",
          "height": 364
        },
        "id": "lawQpXzX66HP",
        "outputId": "c5b20f44-0282-49a4-cd1e-8d87054b1234"
      },
      "outputs": [
        {
          "output_type": "stream",
          "name": "stderr",
          "text": [
            "/usr/local/lib/python3.7/dist-packages/sklearn/utils/deprecation.py:87: FutureWarning: Function plot_confusion_matrix is deprecated; Function `plot_confusion_matrix` is deprecated in 1.0 and will be removed in 1.2. Use one of the class methods: ConfusionMatrixDisplay.from_predictions or ConfusionMatrixDisplay.from_estimator.\n",
            "  warnings.warn(msg, category=FutureWarning)\n"
          ]
        },
        {
          "output_type": "display_data",
          "data": {
            "text/plain": [
              "<Figure size 360x360 with 2 Axes>"
            ],
            "image/png": "[encoded data removed]"
          },
          "metadata": {
            "needs_background": "light"
          }
        }
      ],
      "source": [
        "XG_acc = XGMod_1.score(X_test, y_test)\n",
        "# Return probability estimates for the test data\n",
        "test_labels = XGMod_1.predict_proba(X_test)[:,1]\n",
        "y_true = y_test\n",
        "y_pred = XGMod_1.predict(X_test)\n",
        "# Compute Area Under the Receiver Operating Characteristic Curve (ROC AUC) from prediction scores\n",
        "XG_roc_auc = roc_auc_score(y_test, test_labels)\n",
        "XG_recall = recall_score(y_true, y_pred )\n",
        "XG_precision = precision_score(y_true, y_pred )\n",
        "XG_f1_score = f1_score(y_true, y_pred )\n",
        "\n",
        "from sklearn.metrics import plot_confusion_matrix\n",
        "fig, ax = plt.subplots( figsize=(5,5))\n",
        "plot_confusion_matrix(XGMod_1, X_test , y_test, cmap=plt.cm.Blues, values_format = '.0f',  ax= ax  )\n",
        "plt.title('XGB')\n",
        "plt.show()"
      ]
    },
    {
      "cell_type": "code",
      "execution_count": null,
      "metadata": {
        "colab": {
          "base_uri": "https://localhost:8080/"
        },
        "id": "1jI10wQ97qFY",
        "outputId": "85600f81-1257-440a-f1ec-a32c25150832"
      },
      "outputs": [
        {
          "data": {
            "text/plain": [
              "0.7956962404513456"
            ]
          },
          "execution_count": 106,
          "metadata": {
            "tags": []
          },
          "output_type": "execute_result"
        }
      ],
      "source": [
        "XG_acc"
      ]
    },
    {
      "cell_type": "code",
      "execution_count": null,
      "metadata": {
        "colab": {
          "base_uri": "https://localhost:8080/"
        },
        "id": "lBqER9CJ7xxG",
        "outputId": "e83b60eb-9223-4005-8806-461ff4bc4541"
      },
      "outputs": [
        {
          "data": {
            "text/plain": [
              "0.8621065547342763"
            ]
          },
          "execution_count": 107,
          "metadata": {
            "tags": []
          },
          "output_type": "execute_result"
        }
      ],
      "source": [
        "XG_roc_auc"
      ]
    },
    {
      "cell_type": "code",
      "execution_count": null,
      "metadata": {
        "id": "aj-CwEY_70NV"
      },
      "outputs": [],
      "source": [
        "plt.figure(figsize=(10,6))\n",
        "sns.kdeplot(probs_lgr, label='Logistic regression')\n",
        "sns.kdeplot(preds_svc, label='SVM')\n",
        "plt.title(\"Probability Density Plot for 2 Classifiers\")\n",
        "plt.show()"
      ]
    },
    {
      "cell_type": "code",
      "execution_count": null,
      "metadata": {
        "id": "D-yFNFP-tN_D"
      },
      "outputs": [],
      "source": [
        "XGMod"
      ]
    },
    {
      "cell_type": "markdown",
      "metadata": {
        "id": "L9bFc1cy4Ml5"
      },
      "source": [
        "**TUNNING**"
      ]
    },
    {
      "cell_type": "code",
      "execution_count": null,
      "metadata": {
        "id": "dlt-gLhStPQI",
        "colab": {
          "base_uri": "https://localhost:8080/",
          "height": 345
        },
        "outputId": "b285d917-90a5-49ed-fac3-22fb7a553e81"
      },
      "outputs": [
        {
          "output_type": "error",
          "ename": "KeyboardInterrupt",
          "evalue": "ignored",
          "traceback": [
            "\u001b[0;31m---------------------------------------------------------------------------\u001b[0m",
            "\u001b[0;31mKeyboardInterrupt\u001b[0m                         Traceback (most recent call last)",
            "\u001b[0;32m<ipython-input-38-fef0ce3fc23c>\u001b[0m in \u001b[0;36m<module>\u001b[0;34m()\u001b[0m\n\u001b[1;32m      4\u001b[0m gsearch1 = GridSearchCV(estimator = XGBClassifier(colsample_bytree=0.8, gamma=0.1, max_depth=4, min_child_weight=6, nthread=4, seed=27, subsample=0.8), \n\u001b[1;32m      5\u001b[0m param_grid = param_test1, scoring='roc_auc',n_jobs=4, cv=5)\n\u001b[0;32m----> 6\u001b[0;31m \u001b[0mgsearch1\u001b[0m\u001b[0;34m.\u001b[0m\u001b[0mfit\u001b[0m\u001b[0;34m(\u001b[0m\u001b[0mX_train\u001b[0m\u001b[0;34m,\u001b[0m \u001b[0my_train\u001b[0m\u001b[0;34m)\u001b[0m\u001b[0;34m\u001b[0m\u001b[0;34m\u001b[0m\u001b[0m\n\u001b[0m",
            "\u001b[0;32m/usr/local/lib/python3.7/dist-packages/sklearn/model_selection/_search.py\u001b[0m in \u001b[0;36mfit\u001b[0;34m(self, X, y, groups, **fit_params)\u001b[0m\n\u001b[1;32m    889\u001b[0m                 \u001b[0;32mreturn\u001b[0m \u001b[0mresults\u001b[0m\u001b[0;34m\u001b[0m\u001b[0;34m\u001b[0m\u001b[0m\n\u001b[1;32m    890\u001b[0m \u001b[0;34m\u001b[0m\u001b[0m\n\u001b[0;32m--> 891\u001b[0;31m             \u001b[0mself\u001b[0m\u001b[0;34m.\u001b[0m\u001b[0m_run_search\u001b[0m\u001b[0;34m(\u001b[0m\u001b[0mevaluate_candidates\u001b[0m\u001b[0;34m)\u001b[0m\u001b[0;34m\u001b[0m\u001b[0;34m\u001b[0m\u001b[0m\n\u001b[0m\u001b[1;32m    892\u001b[0m \u001b[0;34m\u001b[0m\u001b[0m\n\u001b[1;32m    893\u001b[0m             \u001b[0;31m# multimetric is determined here because in the case of a callable\u001b[0m\u001b[0;34m\u001b[0m\u001b[0;34m\u001b[0m\u001b[0;34m\u001b[0m\u001b[0m\n",
            "\u001b[0;32m/usr/local/lib/python3.7/dist-packages/sklearn/model_selection/_search.py\u001b[0m in \u001b[0;36m_run_search\u001b[0;34m(self, evaluate_candidates)\u001b[0m\n\u001b[1;32m   1390\u001b[0m     \u001b[0;32mdef\u001b[0m \u001b[0m_run_search\u001b[0m\u001b[0;34m(\u001b[0m\u001b[0mself\u001b[0m\u001b[0;34m,\u001b[0m \u001b[0mevaluate_candidates\u001b[0m\u001b[0;34m)\u001b[0m\u001b[0;34m:\u001b[0m\u001b[0;34m\u001b[0m\u001b[0;34m\u001b[0m\u001b[0m\n\u001b[1;32m   1391\u001b[0m         \u001b[0;34m\"\"\"Search all candidates in param_grid\"\"\"\u001b[0m\u001b[0;34m\u001b[0m\u001b[0;34m\u001b[0m\u001b[0m\n\u001b[0;32m-> 1392\u001b[0;31m         \u001b[0mevaluate_candidates\u001b[0m\u001b[0;34m(\u001b[0m\u001b[0mParameterGrid\u001b[0m\u001b[0;34m(\u001b[0m\u001b[0mself\u001b[0m\u001b[0;34m.\u001b[0m\u001b[0mparam_grid\u001b[0m\u001b[0;34m)\u001b[0m\u001b[0;34m)\u001b[0m\u001b[0;34m\u001b[0m\u001b[0;34m\u001b[0m\u001b[0m\n\u001b[0m\u001b[1;32m   1393\u001b[0m \u001b[0;34m\u001b[0m\u001b[0m\n\u001b[1;32m   1394\u001b[0m \u001b[0;34m\u001b[0m\u001b[0m\n",
            "\u001b[0;32m/usr/local/lib/python3.7/dist-packages/sklearn/model_selection/_search.py\u001b[0m in \u001b[0;36mevaluate_candidates\u001b[0;34m(candidate_params, cv, more_results)\u001b[0m\n\u001b[1;32m    849\u001b[0m                     )\n\u001b[1;32m    850\u001b[0m                     for (cand_idx, parameters), (split_idx, (train, test)) in product(\n\u001b[0;32m--> 851\u001b[0;31m                         \u001b[0menumerate\u001b[0m\u001b[0;34m(\u001b[0m\u001b[0mcandidate_params\u001b[0m\u001b[0;34m)\u001b[0m\u001b[0;34m,\u001b[0m \u001b[0menumerate\u001b[0m\u001b[0;34m(\u001b[0m\u001b[0mcv\u001b[0m\u001b[0;34m.\u001b[0m\u001b[0msplit\u001b[0m\u001b[0;34m(\u001b[0m\u001b[0mX\u001b[0m\u001b[0;34m,\u001b[0m \u001b[0my\u001b[0m\u001b[0;34m,\u001b[0m \u001b[0mgroups\u001b[0m\u001b[0;34m)\u001b[0m\u001b[0;34m)\u001b[0m\u001b[0;34m\u001b[0m\u001b[0;34m\u001b[0m\u001b[0m\n\u001b[0m\u001b[1;32m    852\u001b[0m                     )\n\u001b[1;32m    853\u001b[0m                 )\n",
            "\u001b[0;32m/usr/local/lib/python3.7/dist-packages/joblib/parallel.py\u001b[0m in \u001b[0;36m__call__\u001b[0;34m(self, iterable)\u001b[0m\n\u001b[1;32m   1054\u001b[0m \u001b[0;34m\u001b[0m\u001b[0m\n\u001b[1;32m   1055\u001b[0m             \u001b[0;32mwith\u001b[0m \u001b[0mself\u001b[0m\u001b[0;34m.\u001b[0m\u001b[0m_backend\u001b[0m\u001b[0;34m.\u001b[0m\u001b[0mretrieval_context\u001b[0m\u001b[0;34m(\u001b[0m\u001b[0;34m)\u001b[0m\u001b[0;34m:\u001b[0m\u001b[0;34m\u001b[0m\u001b[0;34m\u001b[0m\u001b[0m\n\u001b[0;32m-> 1056\u001b[0;31m                 \u001b[0mself\u001b[0m\u001b[0;34m.\u001b[0m\u001b[0mretrieve\u001b[0m\u001b[0;34m(\u001b[0m\u001b[0;34m)\u001b[0m\u001b[0;34m\u001b[0m\u001b[0;34m\u001b[0m\u001b[0m\n\u001b[0m\u001b[1;32m   1057\u001b[0m             \u001b[0;31m# Make sure that we get a last message telling us we are done\u001b[0m\u001b[0;34m\u001b[0m\u001b[0;34m\u001b[0m\u001b[0;34m\u001b[0m\u001b[0m\n\u001b[1;32m   1058\u001b[0m             \u001b[0melapsed_time\u001b[0m \u001b[0;34m=\u001b[0m \u001b[0mtime\u001b[0m\u001b[0;34m.\u001b[0m\u001b[0mtime\u001b[0m\u001b[0;34m(\u001b[0m\u001b[0;34m)\u001b[0m \u001b[0;34m-\u001b[0m \u001b[0mself\u001b[0m\u001b[0;34m.\u001b[0m\u001b[0m_start_time\u001b[0m\u001b[0;34m\u001b[0m\u001b[0;34m\u001b[0m\u001b[0m\n",
            "\u001b[0;32m/usr/local/lib/python3.7/dist-packages/joblib/parallel.py\u001b[0m in \u001b[0;36mretrieve\u001b[0;34m(self)\u001b[0m\n\u001b[1;32m    933\u001b[0m             \u001b[0;32mtry\u001b[0m\u001b[0;34m:\u001b[0m\u001b[0;34m\u001b[0m\u001b[0;34m\u001b[0m\u001b[0m\n\u001b[1;32m    934\u001b[0m                 \u001b[0;32mif\u001b[0m \u001b[0mgetattr\u001b[0m\u001b[0;34m(\u001b[0m\u001b[0mself\u001b[0m\u001b[0;34m.\u001b[0m\u001b[0m_backend\u001b[0m\u001b[0;34m,\u001b[0m \u001b[0;34m'supports_timeout'\u001b[0m\u001b[0;34m,\u001b[0m \u001b[0;32mFalse\u001b[0m\u001b[0;34m)\u001b[0m\u001b[0;34m:\u001b[0m\u001b[0;34m\u001b[0m\u001b[0;34m\u001b[0m\u001b[0m\n\u001b[0;32m--> 935\u001b[0;31m                     \u001b[0mself\u001b[0m\u001b[0;34m.\u001b[0m\u001b[0m_output\u001b[0m\u001b[0;34m.\u001b[0m\u001b[0mextend\u001b[0m\u001b[0;34m(\u001b[0m\u001b[0mjob\u001b[0m\u001b[0;34m.\u001b[0m\u001b[0mget\u001b[0m\u001b[0;34m(\u001b[0m\u001b[0mtimeout\u001b[0m\u001b[0;34m=\u001b[0m\u001b[0mself\u001b[0m\u001b[0;34m.\u001b[0m\u001b[0mtimeout\u001b[0m\u001b[0;34m)\u001b[0m\u001b[0;34m)\u001b[0m\u001b[0;34m\u001b[0m\u001b[0;34m\u001b[0m\u001b[0m\n\u001b[0m\u001b[1;32m    936\u001b[0m                 \u001b[0;32melse\u001b[0m\u001b[0;34m:\u001b[0m\u001b[0;34m\u001b[0m\u001b[0;34m\u001b[0m\u001b[0m\n\u001b[1;32m    937\u001b[0m                     \u001b[0mself\u001b[0m\u001b[0;34m.\u001b[0m\u001b[0m_output\u001b[0m\u001b[0;34m.\u001b[0m\u001b[0mextend\u001b[0m\u001b[0;34m(\u001b[0m\u001b[0mjob\u001b[0m\u001b[0;34m.\u001b[0m\u001b[0mget\u001b[0m\u001b[0;34m(\u001b[0m\u001b[0;34m)\u001b[0m\u001b[0;34m)\u001b[0m\u001b[0;34m\u001b[0m\u001b[0;34m\u001b[0m\u001b[0m\n",
            "\u001b[0;32m/usr/local/lib/python3.7/dist-packages/joblib/_parallel_backends.py\u001b[0m in \u001b[0;36mwrap_future_result\u001b[0;34m(future, timeout)\u001b[0m\n\u001b[1;32m    540\u001b[0m         AsyncResults.get from multiprocessing.\"\"\"\n\u001b[1;32m    541\u001b[0m         \u001b[0;32mtry\u001b[0m\u001b[0;34m:\u001b[0m\u001b[0;34m\u001b[0m\u001b[0;34m\u001b[0m\u001b[0m\n\u001b[0;32m--> 542\u001b[0;31m             \u001b[0;32mreturn\u001b[0m \u001b[0mfuture\u001b[0m\u001b[0;34m.\u001b[0m\u001b[0mresult\u001b[0m\u001b[0;34m(\u001b[0m\u001b[0mtimeout\u001b[0m\u001b[0;34m=\u001b[0m\u001b[0mtimeout\u001b[0m\u001b[0;34m)\u001b[0m\u001b[0;34m\u001b[0m\u001b[0;34m\u001b[0m\u001b[0m\n\u001b[0m\u001b[1;32m    543\u001b[0m         \u001b[0;32mexcept\u001b[0m \u001b[0mCfTimeoutError\u001b[0m \u001b[0;32mas\u001b[0m \u001b[0me\u001b[0m\u001b[0;34m:\u001b[0m\u001b[0;34m\u001b[0m\u001b[0;34m\u001b[0m\u001b[0m\n\u001b[1;32m    544\u001b[0m             \u001b[0;32mraise\u001b[0m \u001b[0mTimeoutError\u001b[0m \u001b[0;32mfrom\u001b[0m \u001b[0me\u001b[0m\u001b[0;34m\u001b[0m\u001b[0;34m\u001b[0m\u001b[0m\n",
            "\u001b[0;32m/usr/lib/python3.7/concurrent/futures/_base.py\u001b[0m in \u001b[0;36mresult\u001b[0;34m(self, timeout)\u001b[0m\n\u001b[1;32m    428\u001b[0m                 \u001b[0;32mreturn\u001b[0m \u001b[0mself\u001b[0m\u001b[0;34m.\u001b[0m\u001b[0m__get_result\u001b[0m\u001b[0;34m(\u001b[0m\u001b[0;34m)\u001b[0m\u001b[0;34m\u001b[0m\u001b[0;34m\u001b[0m\u001b[0m\n\u001b[1;32m    429\u001b[0m \u001b[0;34m\u001b[0m\u001b[0m\n\u001b[0;32m--> 430\u001b[0;31m             \u001b[0mself\u001b[0m\u001b[0;34m.\u001b[0m\u001b[0m_condition\u001b[0m\u001b[0;34m.\u001b[0m\u001b[0mwait\u001b[0m\u001b[0;34m(\u001b[0m\u001b[0mtimeout\u001b[0m\u001b[0;34m)\u001b[0m\u001b[0;34m\u001b[0m\u001b[0;34m\u001b[0m\u001b[0m\n\u001b[0m\u001b[1;32m    431\u001b[0m \u001b[0;34m\u001b[0m\u001b[0m\n\u001b[1;32m    432\u001b[0m             \u001b[0;32mif\u001b[0m \u001b[0mself\u001b[0m\u001b[0;34m.\u001b[0m\u001b[0m_state\u001b[0m \u001b[0;32min\u001b[0m \u001b[0;34m[\u001b[0m\u001b[0mCANCELLED\u001b[0m\u001b[0;34m,\u001b[0m \u001b[0mCANCELLED_AND_NOTIFIED\u001b[0m\u001b[0;34m]\u001b[0m\u001b[0;34m:\u001b[0m\u001b[0;34m\u001b[0m\u001b[0;34m\u001b[0m\u001b[0m\n",
            "\u001b[0;32m/usr/lib/python3.7/threading.py\u001b[0m in \u001b[0;36mwait\u001b[0;34m(self, timeout)\u001b[0m\n\u001b[1;32m    294\u001b[0m         \u001b[0;32mtry\u001b[0m\u001b[0;34m:\u001b[0m    \u001b[0;31m# restore state no matter what (e.g., KeyboardInterrupt)\u001b[0m\u001b[0;34m\u001b[0m\u001b[0;34m\u001b[0m\u001b[0m\n\u001b[1;32m    295\u001b[0m             \u001b[0;32mif\u001b[0m \u001b[0mtimeout\u001b[0m \u001b[0;32mis\u001b[0m \u001b[0;32mNone\u001b[0m\u001b[0;34m:\u001b[0m\u001b[0;34m\u001b[0m\u001b[0;34m\u001b[0m\u001b[0m\n\u001b[0;32m--> 296\u001b[0;31m                 \u001b[0mwaiter\u001b[0m\u001b[0;34m.\u001b[0m\u001b[0macquire\u001b[0m\u001b[0;34m(\u001b[0m\u001b[0;34m)\u001b[0m\u001b[0;34m\u001b[0m\u001b[0;34m\u001b[0m\u001b[0m\n\u001b[0m\u001b[1;32m    297\u001b[0m                 \u001b[0mgotit\u001b[0m \u001b[0;34m=\u001b[0m \u001b[0;32mTrue\u001b[0m\u001b[0;34m\u001b[0m\u001b[0;34m\u001b[0m\u001b[0m\n\u001b[1;32m    298\u001b[0m             \u001b[0;32melse\u001b[0m\u001b[0;34m:\u001b[0m\u001b[0;34m\u001b[0m\u001b[0;34m\u001b[0m\u001b[0m\n",
            "\u001b[0;31mKeyboardInterrupt\u001b[0m: "
          ]
        }
      ],
      "source": [
        "#Choose all predictors except target & IDcols\n",
        "#predictors = [x for x in train.columns if x not in [target, IDcol]]\n",
        "param_test1 = {'n_estimators':range(50,500, 10)}\n",
        "gsearch1 = GridSearchCV(estimator = XGBClassifier(colsample_bytree=0.8, gamma=0.1, max_depth=4, min_child_weight=6, nthread=4, seed=27, subsample=0.8),\n",
        "param_grid = param_test1, scoring='roc_auc',n_jobs=4, cv=5)\n",
        "gsearch1.fit(X_train, y_train)"
      ]
    },
    {
      "cell_type": "code",
      "execution_count": null,
      "metadata": {
        "id": "y6qzaGsk5hkM"
      },
      "outputs": [],
      "source": [
        "gsearch1.grid_scores_, gsearch1.best_params_, gsearch1.best_score_"
      ]
    },
    {
      "cell_type": "code",
      "execution_count": null,
      "metadata": {
        "colab": {
          "base_uri": "https://localhost:8080/"
        },
        "id": "Nlbw2vI77Wm0",
        "outputId": "57e90aef-ddef-4b18-cf72-8ad0234447c4"
      },
      "outputs": [
        {
          "output_type": "stream",
          "name": "stdout",
          "text": [
            "Best Parameters: {'learning_rate': 0.05, 'max_depth': 7, 'n_estimators': 100}\n",
            "Train Score: 0.7989686846347817\n",
            "Test Score: 0.7961955165010735\n"
          ]
        }
      ],
      "source": [
        "grid = {'learning_rate':[0.01,0.05,0.1, 0.1],'n_estimators':[100, 150, 200 , 250],'max_depth':[ 4,5,6,7] }\n",
        "\n",
        "xb = XGBClassifier(colsample_bytree=0.8, gamma=0.1, min_child_weight=6, nthread=4, seed=27, subsample=0.8)\n",
        "gb_cv = GridSearchCV(xb, grid, cv = 4)\n",
        "gb_cv.fit(X_train,y_train)\n",
        "\n",
        "print(\"Best Parameters:\",gb_cv.best_params_)\n",
        "print(\"Train Score:\",gb_cv.best_score_)\n",
        "print(\"Test Score:\",gb_cv.score(X_test,y_test))"
      ]
    },
    {
      "cell_type": "code",
      "execution_count": null,
      "metadata": {
        "id": "k0sF9vhdP8Px",
        "colab": {
          "base_uri": "https://localhost:8080/"
        },
        "outputId": "d98bb440-4c9e-46f7-a1c4-6b6bfc93c37d"
      },
      "outputs": [
        {
          "output_type": "stream",
          "name": "stdout",
          "text": [
            "Best Parameters: {'max_depth': 5}\n",
            "Train Score: 0.7971712926840068\n",
            "Test Score: 0.7949473263767537\n"
          ]
        }
      ],
      "source": [
        "grid = {'max_depth':[5,6,7,8,9,10,11] }#, 'min_samples_split':range(100,1001,100) , 'min_samples_leaf':range(30,61,5)}\n",
        "\n",
        "gb = GradientBoostingClassifier(learning_rate=0.1,n_estimators=162)\n",
        "\n",
        "gb_cv = GridSearchCV(gb, grid, cv = 4)\n",
        "\n",
        "gb_cv.fit(X_train,y_train)\n",
        "\n",
        "print(\"Best Parameters:\",gb_cv.best_params_)S\n",
        "print(\"Train Score:\",gb_cv.best_score_)\n",
        "print(\"Test Score:\",gb_cv.score(X_test,y_test))"
      ]
    },
    {
      "cell_type": "code",
      "execution_count": null,
      "metadata": {
        "id": "SAQ0hh8dKRqO",
        "colab": {
          "base_uri": "https://localhost:8080/"
        },
        "outputId": "88659c72-01a6-4e70-a85a-dd580e7ff269"
      },
      "outputs": [
        {
          "output_type": "execute_result",
          "data": {
            "text/plain": [
              "XGBClassifier(colsample_bytree=0.8, gamma=0.1, learning_rate=0.05, max_depth=7,\n",
              "              min_child_weight=6, nthread=4, seed=27, subsample=0.8)"
            ]
          },
          "metadata": {},
          "execution_count": 41
        }
      ],
      "source": [
        "# Initialization of the GradientBoosting model\n",
        "gbMod_1 = XGBClassifier(learning_rate=0.05,colsample_bytree=0.8, gamma=0.1,max_depth = 7 , min_child_weight=6,n_estimators = 100 , nthread=4, seed=27, subsample=0.8)\n",
        "# Fitting the model with training data\n",
        "gbMod_1.fit(X_train, y_train)"
      ]
    },
    {
      "cell_type": "code",
      "source": [
        "\n",
        "# Compute the model accuracy on the given test data and labels\n",
        "gb_acc_1 = gbMod_1.score(X_test, y_test)\n",
        "# Return probability estimates for the test data\n",
        "test_labels = gbMod_1.predict_proba(X_test)[:,1]\n",
        "y_true = y_test\n",
        "y_pred =  gbMod_1.predict(X_test)\n",
        "# Compute Area Under the Receiver Operating Characteristic Curve (ROC AUC) from prediction scores\n",
        "GB_roc_auc_1 = roc_auc_score(y_test, test_labels , average = 'macro')\n",
        "gb_recall_1 = recall_score(y_true, y_pred )\n",
        "gb_precision_1 = precision_score(y_true, y_pred )\n",
        "gb_f1_score_1 = f1_score(y_true, y_pred )\n",
        "\n",
        "\n",
        "from sklearn.metrics import plot_confusion_matrix\n",
        "fig, ax = plt.subplots( figsize=(5,5))\n",
        "plot_confusion_matrix(gbMod_1, X_test , y_test, cmap=plt.cm.Blues, values_format = '.0f',  ax= ax  )\n",
        "plt.title('GB_1')\n",
        "plt.show()\n",
        "\n"
      ],
      "metadata": {
        "colab": {
          "base_uri": "https://localhost:8080/",
          "height": 364
        },
        "id": "7IJsQYJat1W4",
        "outputId": "5b3a2e51-065c-423a-d1fd-e36e265005a2"
      },
      "execution_count": null,
      "outputs": [
        {
          "output_type": "stream",
          "name": "stderr",
          "text": [
            "/usr/local/lib/python3.7/dist-packages/sklearn/utils/deprecation.py:87: FutureWarning: Function plot_confusion_matrix is deprecated; Function `plot_confusion_matrix` is deprecated in 1.0 and will be removed in 1.2. Use one of the class methods: ConfusionMatrixDisplay.from_predictions or ConfusionMatrixDisplay.from_estimator.\n",
            "  warnings.warn(msg, category=FutureWarning)\n"
          ]
        },
        {
          "output_type": "display_data",
          "data": {
            "text/plain": [
              "<Figure size 360x360 with 2 Axes>"
            ],
            "image/png": "[encoded data removed]"
          },
          "metadata": {
            "needs_background": "light"
          }
        }
      ]
    },
    {
      "cell_type": "code",
      "source": [
        "\n",
        "gb_acc_1\n"
      ],
      "metadata": {
        "colab": {
          "base_uri": "https://localhost:8080/"
        },
        "id": "JhttIUjfu6pj",
        "outputId": "34ea82d4-233b-4eff-fb63-d3d3d8a77b93"
      },
      "execution_count": null,
      "outputs": [
        {
          "output_type": "execute_result",
          "data": {
            "text/plain": [
              "0.795846023266264"
            ]
          },
          "metadata": {},
          "execution_count": 54
        }
      ]
    }
  ],
  "metadata": {
    "colab": {
      "provenance": [],
      "toc_visible": true
    },
    "kernelspec": {
      "display_name": "Python 3",
      "name": "python3"
    },
    "language_info": {
      "name": "python"
    }
  },
  "nbformat": 4,
  "nbformat_minor": 0
}